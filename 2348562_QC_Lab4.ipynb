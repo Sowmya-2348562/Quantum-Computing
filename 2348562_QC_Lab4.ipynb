{
  "nbformat": 4,
  "nbformat_minor": 0,
  "metadata": {
    "colab": {
      "provenance": [],
      "authorship_tag": "ABX9TyOmTTF1YFDwZA2T09a22EpZ",
      "include_colab_link": true
    },
    "kernelspec": {
      "name": "python3",
      "display_name": "Python 3"
    },
    "language_info": {
      "name": "python"
    }
  },
  "cells": [
    {
      "cell_type": "markdown",
      "metadata": {
        "id": "view-in-github",
        "colab_type": "text"
      },
      "source": [
        "<a href=\"https://colab.research.google.com/github/Sowmya-2348562/Quantum-Computing/blob/main/2348562_QC_Lab4.ipynb\" target=\"_parent\"><img src=\"https://colab.research.google.com/assets/colab-badge.svg\" alt=\"Open In Colab\"/></a>"
      ]
    },
    {
      "cell_type": "markdown",
      "source": [
        "# Design of quantum circuits"
      ],
      "metadata": {
        "id": "sGsKJQx2kDey"
      }
    },
    {
      "cell_type": "code",
      "source": [
        "pip install qiskit"
      ],
      "metadata": {
        "colab": {
          "base_uri": "https://localhost:8080/"
        },
        "id": "s9xIq9MdkEXb",
        "outputId": "c67dd16e-fe0c-4925-ae83-f8ff5c159d71"
      },
      "execution_count": null,
      "outputs": [
        {
          "output_type": "stream",
          "name": "stdout",
          "text": [
            "Collecting qiskit\n",
            "  Downloading qiskit-1.2.4-cp38-abi3-manylinux_2_17_x86_64.manylinux2014_x86_64.whl.metadata (12 kB)\n",
            "Collecting rustworkx>=0.15.0 (from qiskit)\n",
            "  Downloading rustworkx-0.15.1-cp38-abi3-manylinux_2_17_x86_64.manylinux2014_x86_64.whl.metadata (9.9 kB)\n",
            "Requirement already satisfied: numpy<3,>=1.17 in /usr/local/lib/python3.10/dist-packages (from qiskit) (1.26.4)\n",
            "Requirement already satisfied: scipy>=1.5 in /usr/local/lib/python3.10/dist-packages (from qiskit) (1.13.1)\n",
            "Requirement already satisfied: sympy>=1.3 in /usr/local/lib/python3.10/dist-packages (from qiskit) (1.13.3)\n",
            "Collecting dill>=0.3 (from qiskit)\n",
            "  Downloading dill-0.3.9-py3-none-any.whl.metadata (10 kB)\n",
            "Requirement already satisfied: python-dateutil>=2.8.0 in /usr/local/lib/python3.10/dist-packages (from qiskit) (2.8.2)\n",
            "Collecting stevedore>=3.0.0 (from qiskit)\n",
            "  Downloading stevedore-5.3.0-py3-none-any.whl.metadata (2.3 kB)\n",
            "Requirement already satisfied: typing-extensions in /usr/local/lib/python3.10/dist-packages (from qiskit) (4.12.2)\n",
            "Collecting symengine<0.14,>=0.11 (from qiskit)\n",
            "  Downloading symengine-0.13.0-cp310-cp310-manylinux_2_17_x86_64.manylinux2014_x86_64.whl.metadata (1.2 kB)\n",
            "Requirement already satisfied: six>=1.5 in /usr/local/lib/python3.10/dist-packages (from python-dateutil>=2.8.0->qiskit) (1.16.0)\n",
            "Collecting pbr>=2.0.0 (from stevedore>=3.0.0->qiskit)\n",
            "  Downloading pbr-6.1.0-py2.py3-none-any.whl.metadata (3.4 kB)\n",
            "Requirement already satisfied: mpmath<1.4,>=1.1.0 in /usr/local/lib/python3.10/dist-packages (from sympy>=1.3->qiskit) (1.3.0)\n",
            "Downloading qiskit-1.2.4-cp38-abi3-manylinux_2_17_x86_64.manylinux2014_x86_64.whl (4.8 MB)\n",
            "\u001b[2K   \u001b[90m━━━━━━━━━━━━━━━━━━━━━━━━━━━━━━━━━━━━━━━━\u001b[0m \u001b[32m4.8/4.8 MB\u001b[0m \u001b[31m38.7 MB/s\u001b[0m eta \u001b[36m0:00:00\u001b[0m\n",
            "\u001b[?25hDownloading dill-0.3.9-py3-none-any.whl (119 kB)\n",
            "\u001b[2K   \u001b[90m━━━━━━━━━━━━━━━━━━━━━━━━━━━━━━━━━━━━━━━━\u001b[0m \u001b[32m119.4/119.4 kB\u001b[0m \u001b[31m10.9 MB/s\u001b[0m eta \u001b[36m0:00:00\u001b[0m\n",
            "\u001b[?25hDownloading rustworkx-0.15.1-cp38-abi3-manylinux_2_17_x86_64.manylinux2014_x86_64.whl (2.0 MB)\n",
            "\u001b[2K   \u001b[90m━━━━━━━━━━━━━━━━━━━━━━━━━━━━━━━━━━━━━━━━\u001b[0m \u001b[32m2.0/2.0 MB\u001b[0m \u001b[31m71.4 MB/s\u001b[0m eta \u001b[36m0:00:00\u001b[0m\n",
            "\u001b[?25hDownloading stevedore-5.3.0-py3-none-any.whl (49 kB)\n",
            "\u001b[2K   \u001b[90m━━━━━━━━━━━━━━━━━━━━━━━━━━━━━━━━━━━━━━━━\u001b[0m \u001b[32m49.7/49.7 kB\u001b[0m \u001b[31m3.4 MB/s\u001b[0m eta \u001b[36m0:00:00\u001b[0m\n",
            "\u001b[?25hDownloading symengine-0.13.0-cp310-cp310-manylinux_2_17_x86_64.manylinux2014_x86_64.whl (49.7 MB)\n",
            "\u001b[2K   \u001b[90m━━━━━━━━━━━━━━━━━━━━━━━━━━━━━━━━━━━━━━━━\u001b[0m \u001b[32m49.7/49.7 MB\u001b[0m \u001b[31m17.5 MB/s\u001b[0m eta \u001b[36m0:00:00\u001b[0m\n",
            "\u001b[?25hDownloading pbr-6.1.0-py2.py3-none-any.whl (108 kB)\n",
            "\u001b[2K   \u001b[90m━━━━━━━━━━━━━━━━━━━━━━━━━━━━━━━━━━━━━━━━\u001b[0m \u001b[32m108.5/108.5 kB\u001b[0m \u001b[31m8.8 MB/s\u001b[0m eta \u001b[36m0:00:00\u001b[0m\n",
            "\u001b[?25hInstalling collected packages: symengine, rustworkx, pbr, dill, stevedore, qiskit\n",
            "Successfully installed dill-0.3.9 pbr-6.1.0 qiskit-1.2.4 rustworkx-0.15.1 stevedore-5.3.0 symengine-0.13.0\n"
          ]
        }
      ]
    },
    {
      "cell_type": "markdown",
      "source": [
        "1. HSHT Circuit Using Statevectors"
      ],
      "metadata": {
        "id": "UrBtrCwHlDt0"
      }
    },
    {
      "cell_type": "code",
      "source": [
        "import qiskit\n",
        "from qiskit.quantum_info import Statevector\n",
        "\n",
        "# Initialize the |0⟩ state as the starting statevector\n",
        "initial_state = Statevector.from_label('0')\n",
        "\n",
        "# Create the quantum circuit to apply HSHT operations\n",
        "qc = qiskit.QuantumCircuit(1)\n",
        "\n",
        "# Apply Hadamard, Phase (S), Hadamard, and T gate\n",
        "qc.h(0)  # H gate\n",
        "qc.s(0)  # S gate\n",
        "qc.h(0)  # Another H gate\n",
        "qc.t(0)  # T gate\n",
        "\n",
        "# Get the final statevector after applying the gates\n",
        "final_state = initial_state.evolve(qc)\n",
        "\n",
        "# Display the resulting statevector\n",
        "print(\"HSHT Operation Final Statevector:\")\n",
        "print(final_state)\n"
      ],
      "metadata": {
        "colab": {
          "base_uri": "https://localhost:8080/"
        },
        "id": "5rV8N4sGj8Ss",
        "outputId": "c7b1b491-711a-4fe9-a63f-27716a8a3c11"
      },
      "execution_count": null,
      "outputs": [
        {
          "output_type": "stream",
          "name": "stdout",
          "text": [
            "HSHT Operation Final Statevector:\n",
            "Statevector([0.5       +0.5j, 0.70710678+0.j ],\n",
            "            dims=(2,))\n",
            "HSHT Operation Final Statevector:\n",
            "Statevector([0.5       +0.5j, 0.70710678+0.j ],\n",
            "            dims=(2,))\n"
          ]
        }
      ]
    },
    {
      "cell_type": "markdown",
      "source": [
        "2. Checking Reversibility of HSHT Operation"
      ],
      "metadata": {
        "id": "WuoBHACOk_sd"
      }
    },
    {
      "cell_type": "code",
      "source": [
        "# Create the inverse of the HSHT circuit\n",
        "qc_inv = qc.inverse()\n",
        "\n",
        "# Apply the inverse to the final state to see if it returns to |0⟩\n",
        "reversed_state = final_state.evolve(qc_inv)\n",
        "\n",
        "print(\"\\nStatevector After Applying Inverse (Should Return to |0⟩):\")\n",
        "print(reversed_state)\n",
        "\n",
        "# Check if the result matches the initial state (within numerical tolerance)\n",
        "is_reversible = Statevector.from_label('0').equiv(reversed_state)\n",
        "print(\"\\nIs the operation reversible? \", is_reversible)\n"
      ],
      "metadata": {
        "colab": {
          "base_uri": "https://localhost:8080/"
        },
        "id": "9kov22jqkZ3E",
        "outputId": "bf47795c-2e9f-4a41-d7d5-f8ac41cddfe2"
      },
      "execution_count": null,
      "outputs": [
        {
          "output_type": "stream",
          "name": "stdout",
          "text": [
            "\n",
            "Statevector After Applying Inverse (Should Return to |0⟩):\n",
            "Statevector([1.+0.00000000e+00j, 0.+7.85046229e-17j],\n",
            "            dims=(2,))\n",
            "\n",
            "Is the operation reversible?  True\n"
          ]
        }
      ]
    },
    {
      "cell_type": "markdown",
      "source": [
        "3. Bell State Generation Using H and CNOT Gates (Statevector Approach)"
      ],
      "metadata": {
        "id": "nkdNcaydk8tp"
      }
    },
    {
      "cell_type": "code",
      "source": [
        "# Initialize the |00⟩ state as the starting statevector\n",
        "initial_bell_state = Statevector.from_label('00')\n",
        "\n",
        "# Create a quantum circuit for the Bell state\n",
        "bell_circuit = qiskit.QuantumCircuit(2)\n",
        "\n",
        "# Apply Hadamard on qubit 0\n",
        "bell_circuit.h(0)\n",
        "\n",
        "# Apply CNOT with control on qubit 0 and target on qubit 1\n",
        "bell_circuit.cx(0, 1)\n",
        "\n",
        "# Get the final statevector representing the Bell state\n",
        "bell_state = initial_bell_state.evolve(bell_circuit)\n",
        "\n",
        "print(\"\\nBell State Final Statevector:\")\n",
        "print(bell_state)\n",
        "\n",
        "# Display the circuit\n",
        "bell_circuit.draw('mpl')\n"
      ],
      "metadata": {
        "id": "JvtPY6jgkgmy"
      },
      "execution_count": null,
      "outputs": []
    },
    {
      "cell_type": "code",
      "source": [
        "!pip install qiskit\n",
        "!pip install qiskit_aer\n",
        "!pip install pylatexenc"
      ],
      "metadata": {
        "colab": {
          "base_uri": "https://localhost:8080/"
        },
        "outputId": "58525c1c-9994-4613-f4e3-dec86310e629",
        "id": "6gN5YZSe3xHx"
      },
      "execution_count": null,
      "outputs": [
        {
          "output_type": "stream",
          "name": "stdout",
          "text": [
            "Collecting qiskit\n",
            "  Downloading qiskit-1.2.4-cp38-abi3-manylinux_2_17_x86_64.manylinux2014_x86_64.whl.metadata (12 kB)\n",
            "Collecting rustworkx>=0.15.0 (from qiskit)\n",
            "  Downloading rustworkx-0.15.1-cp38-abi3-manylinux_2_17_x86_64.manylinux2014_x86_64.whl.metadata (9.9 kB)\n",
            "Requirement already satisfied: numpy<3,>=1.17 in /usr/local/lib/python3.10/dist-packages (from qiskit) (1.26.4)\n",
            "Requirement already satisfied: scipy>=1.5 in /usr/local/lib/python3.10/dist-packages (from qiskit) (1.13.1)\n",
            "Requirement already satisfied: sympy>=1.3 in /usr/local/lib/python3.10/dist-packages (from qiskit) (1.13.1)\n",
            "Collecting dill>=0.3 (from qiskit)\n",
            "  Downloading dill-0.3.9-py3-none-any.whl.metadata (10 kB)\n",
            "Requirement already satisfied: python-dateutil>=2.8.0 in /usr/local/lib/python3.10/dist-packages (from qiskit) (2.8.2)\n",
            "Collecting stevedore>=3.0.0 (from qiskit)\n",
            "  Downloading stevedore-5.3.0-py3-none-any.whl.metadata (2.3 kB)\n",
            "Requirement already satisfied: typing-extensions in /usr/local/lib/python3.10/dist-packages (from qiskit) (4.12.2)\n",
            "Collecting symengine<0.14,>=0.11 (from qiskit)\n",
            "  Downloading symengine-0.13.0-cp310-cp310-manylinux_2_17_x86_64.manylinux2014_x86_64.whl.metadata (1.2 kB)\n",
            "Requirement already satisfied: six>=1.5 in /usr/local/lib/python3.10/dist-packages (from python-dateutil>=2.8.0->qiskit) (1.16.0)\n",
            "Collecting pbr>=2.0.0 (from stevedore>=3.0.0->qiskit)\n",
            "  Downloading pbr-6.1.0-py2.py3-none-any.whl.metadata (3.4 kB)\n",
            "Requirement already satisfied: mpmath<1.4,>=1.1.0 in /usr/local/lib/python3.10/dist-packages (from sympy>=1.3->qiskit) (1.3.0)\n",
            "Downloading qiskit-1.2.4-cp38-abi3-manylinux_2_17_x86_64.manylinux2014_x86_64.whl (4.8 MB)\n",
            "\u001b[2K   \u001b[90m━━━━━━━━━━━━━━━━━━━━━━━━━━━━━━━━━━━━━━━━\u001b[0m \u001b[32m4.8/4.8 MB\u001b[0m \u001b[31m21.2 MB/s\u001b[0m eta \u001b[36m0:00:00\u001b[0m\n",
            "\u001b[?25hDownloading dill-0.3.9-py3-none-any.whl (119 kB)\n",
            "\u001b[2K   \u001b[90m━━━━━━━━━━━━━━━━━━━━━━━━━━━━━━━━━━━━━━━━\u001b[0m \u001b[32m119.4/119.4 kB\u001b[0m \u001b[31m3.4 MB/s\u001b[0m eta \u001b[36m0:00:00\u001b[0m\n",
            "\u001b[?25hDownloading rustworkx-0.15.1-cp38-abi3-manylinux_2_17_x86_64.manylinux2014_x86_64.whl (2.0 MB)\n",
            "\u001b[2K   \u001b[90m━━━━━━━━━━━━━━━━━━━━━━━━━━━━━━━━━━━━━━━━\u001b[0m \u001b[32m2.0/2.0 MB\u001b[0m \u001b[31m18.8 MB/s\u001b[0m eta \u001b[36m0:00:00\u001b[0m\n",
            "\u001b[?25hDownloading stevedore-5.3.0-py3-none-any.whl (49 kB)\n",
            "\u001b[2K   \u001b[90m━━━━━━━━━━━━━━━━━━━━━━━━━━━━━━━━━━━━━━━━\u001b[0m \u001b[32m49.7/49.7 kB\u001b[0m \u001b[31m793.6 kB/s\u001b[0m eta \u001b[36m0:00:00\u001b[0m\n",
            "\u001b[?25hDownloading symengine-0.13.0-cp310-cp310-manylinux_2_17_x86_64.manylinux2014_x86_64.whl (49.7 MB)\n",
            "\u001b[2K   \u001b[90m━━━━━━━━━━━━━━━━━━━━━━━━━━━━━━━━━━━━━━━━\u001b[0m \u001b[32m49.7/49.7 MB\u001b[0m \u001b[31m9.5 MB/s\u001b[0m eta \u001b[36m0:00:00\u001b[0m\n",
            "\u001b[?25hDownloading pbr-6.1.0-py2.py3-none-any.whl (108 kB)\n",
            "\u001b[2K   \u001b[90m━━━━━━━━━━━━━━━━━━━━━━━━━━━━━━━━━━━━━━━━\u001b[0m \u001b[32m108.5/108.5 kB\u001b[0m \u001b[31m3.8 MB/s\u001b[0m eta \u001b[36m0:00:00\u001b[0m\n",
            "\u001b[?25hInstalling collected packages: symengine, rustworkx, pbr, dill, stevedore, qiskit\n",
            "Successfully installed dill-0.3.9 pbr-6.1.0 qiskit-1.2.4 rustworkx-0.15.1 stevedore-5.3.0 symengine-0.13.0\n",
            "Collecting qiskit_aer\n",
            "  Downloading qiskit_aer-0.15.1-cp310-cp310-manylinux_2_17_x86_64.manylinux2014_x86_64.whl.metadata (8.0 kB)\n",
            "Requirement already satisfied: qiskit>=1.1.0 in /usr/local/lib/python3.10/dist-packages (from qiskit_aer) (1.2.4)\n",
            "Requirement already satisfied: numpy>=1.16.3 in /usr/local/lib/python3.10/dist-packages (from qiskit_aer) (1.26.4)\n",
            "Requirement already satisfied: scipy>=1.0 in /usr/local/lib/python3.10/dist-packages (from qiskit_aer) (1.13.1)\n",
            "Requirement already satisfied: psutil>=5 in /usr/local/lib/python3.10/dist-packages (from qiskit_aer) (5.9.5)\n",
            "Requirement already satisfied: rustworkx>=0.15.0 in /usr/local/lib/python3.10/dist-packages (from qiskit>=1.1.0->qiskit_aer) (0.15.1)\n",
            "Requirement already satisfied: sympy>=1.3 in /usr/local/lib/python3.10/dist-packages (from qiskit>=1.1.0->qiskit_aer) (1.13.1)\n",
            "Requirement already satisfied: dill>=0.3 in /usr/local/lib/python3.10/dist-packages (from qiskit>=1.1.0->qiskit_aer) (0.3.9)\n",
            "Requirement already satisfied: python-dateutil>=2.8.0 in /usr/local/lib/python3.10/dist-packages (from qiskit>=1.1.0->qiskit_aer) (2.8.2)\n",
            "Requirement already satisfied: stevedore>=3.0.0 in /usr/local/lib/python3.10/dist-packages (from qiskit>=1.1.0->qiskit_aer) (5.3.0)\n",
            "Requirement already satisfied: typing-extensions in /usr/local/lib/python3.10/dist-packages (from qiskit>=1.1.0->qiskit_aer) (4.12.2)\n",
            "Requirement already satisfied: symengine<0.14,>=0.11 in /usr/local/lib/python3.10/dist-packages (from qiskit>=1.1.0->qiskit_aer) (0.13.0)\n",
            "Requirement already satisfied: six>=1.5 in /usr/local/lib/python3.10/dist-packages (from python-dateutil>=2.8.0->qiskit>=1.1.0->qiskit_aer) (1.16.0)\n",
            "Requirement already satisfied: pbr>=2.0.0 in /usr/local/lib/python3.10/dist-packages (from stevedore>=3.0.0->qiskit>=1.1.0->qiskit_aer) (6.1.0)\n",
            "Requirement already satisfied: mpmath<1.4,>=1.1.0 in /usr/local/lib/python3.10/dist-packages (from sympy>=1.3->qiskit>=1.1.0->qiskit_aer) (1.3.0)\n",
            "Downloading qiskit_aer-0.15.1-cp310-cp310-manylinux_2_17_x86_64.manylinux2014_x86_64.whl (12.3 MB)\n",
            "\u001b[2K   \u001b[90m━━━━━━━━━━━━━━━━━━━━━━━━━━━━━━━━━━━━━━━━\u001b[0m \u001b[32m12.3/12.3 MB\u001b[0m \u001b[31m47.8 MB/s\u001b[0m eta \u001b[36m0:00:00\u001b[0m\n",
            "\u001b[?25hInstalling collected packages: qiskit_aer\n",
            "Successfully installed qiskit_aer-0.15.1\n",
            "Collecting pylatexenc\n",
            "  Downloading pylatexenc-2.10.tar.gz (162 kB)\n",
            "\u001b[2K     \u001b[90m━━━━━━━━━━━━━━━━━━━━━━━━━━━━━━━━━━━━━━━━\u001b[0m \u001b[32m162.6/162.6 kB\u001b[0m \u001b[31m3.9 MB/s\u001b[0m eta \u001b[36m0:00:00\u001b[0m\n",
            "\u001b[?25h  Preparing metadata (setup.py) ... \u001b[?25l\u001b[?25hdone\n",
            "Building wheels for collected packages: pylatexenc\n",
            "  Building wheel for pylatexenc (setup.py) ... \u001b[?25l\u001b[?25hdone\n",
            "  Created wheel for pylatexenc: filename=pylatexenc-2.10-py3-none-any.whl size=136816 sha256=09afc57656f6a5026a440de213b474d45337d98c1b5797db8cbbf85c4fee8845\n",
            "  Stored in directory: /root/.cache/pip/wheels/d3/31/8b/e09b0386afd80cfc556c00408c9aeea5c35c4d484a9c762fd5\n",
            "Successfully built pylatexenc\n",
            "Installing collected packages: pylatexenc\n",
            "Successfully installed pylatexenc-2.10\n"
          ]
        }
      ]
    },
    {
      "cell_type": "markdown",
      "source": [
        "1. HSHT Circuit Using Statevectors"
      ],
      "metadata": {
        "id": "JWpvCxvU3xHy"
      }
    },
    {
      "cell_type": "code",
      "source": [
        "import qiskit\n",
        "from qiskit.quantum_info import Statevector\n",
        "\n",
        "# Initialize the |0⟩ state as the starting statevector\n",
        "initial_state = Statevector.from_label('0')\n",
        "\n",
        "# Create the quantum circuit to apply HSHT operations\n",
        "qc = qiskit.QuantumCircuit(1)\n",
        "\n",
        "# Apply Hadamard, Phase (S), Hadamard, and T gate\n",
        "qc.h(0)  # H gate\n",
        "qc.s(0)  # S gate\n",
        "qc.h(0)  # Another H gate\n",
        "qc.t(0)  # T gate\n",
        "\n",
        "# Get the final statevector after applying the gates\n",
        "final_state = initial_state.evolve(qc)\n",
        "\n",
        "# Display the resulting statevector\n",
        "print(\"HSHT Operation Final Statevector:\")\n",
        "print(final_state)\n"
      ],
      "metadata": {
        "colab": {
          "base_uri": "https://localhost:8080/"
        },
        "outputId": "ad84a1f9-6dec-4e1f-d135-44a0c5038170",
        "id": "BQfuqGwt3xHy"
      },
      "execution_count": null,
      "outputs": [
        {
          "output_type": "stream",
          "name": "stdout",
          "text": [
            "HSHT Operation Final Statevector:\n",
            "Statevector([0.5       +0.5j, 0.70710678+0.j ],\n",
            "            dims=(2,))\n"
          ]
        }
      ]
    },
    {
      "cell_type": "code",
      "source": [
        "import numpy as np\n",
        "# Define the Hadamard (H) gate\n",
        "H = (1 / np.sqrt(2)) * np.array([[1, 1], [1, -1]])\n",
        "#define the phase gate\n",
        "S=np.array([[1,0],[0,1j]])\n",
        "#define a T gate for phase shift\n",
        "T=np.array([[1,0],[0,(1+1j)/np.sqrt(2)]])"
      ],
      "metadata": {
        "id": "0pjAEKnprPB_"
      },
      "execution_count": null,
      "outputs": []
    },
    {
      "cell_type": "code",
      "source": [
        "#Define the quantum gates\n",
        "ket_0 = np.array([[1], [0]])  # |0⟩\n",
        "ket_1 = np.array([[0], [1]])  # |1⟩"
      ],
      "metadata": {
        "id": "LfH8efeorZA9"
      },
      "execution_count": null,
      "outputs": []
    },
    {
      "cell_type": "code",
      "source": [
        "#perform HSHT\n",
        "hsht=H @ S @ H @T\n",
        "print(hsht)"
      ],
      "metadata": {
        "colab": {
          "base_uri": "https://localhost:8080/"
        },
        "id": "n7U_di7krsgH",
        "outputId": "24d39fb4-b9f2-407f-df98-d51c7fe46815"
      },
      "execution_count": null,
      "outputs": [
        {
          "output_type": "stream",
          "name": "stdout",
          "text": [
            "[[0.5       +0.5j        0.70710678+0.j        ]\n",
            " [0.5       -0.5j        0.        +0.70710678j]]\n"
          ]
        }
      ]
    },
    {
      "cell_type": "code",
      "source": [
        "from qiskit import QuantumCircuit\n",
        "circuit = QuantumCircuit(1)\n",
        "\n",
        "circuit.h(0)\n",
        "circuit.s(0)\n",
        "circuit.h(0)\n",
        "circuit.t(0)\n",
        "\n",
        "display(circuit.draw('mpl'))"
      ],
      "metadata": {
        "colab": {
          "base_uri": "https://localhost:8080/",
          "height": 127
        },
        "id": "QehwunvEreP5",
        "outputId": "8af14a9c-94ab-4518-c171-e084ae1797f0"
      },
      "execution_count": null,
      "outputs": [
        {
          "output_type": "display_data",
          "data": {
            "text/plain": [
              "<Figure size 436.286x117.056 with 1 Axes>"
            ],
            "image/png": "[encoded data removed]"
          },
          "metadata": {}
        }
      ]
    },
    {
      "cell_type": "code",
      "source": [
        "#apply HSHT on ket_0 and ket_1\n",
        "hsht_ket_0 = hsht@ket_0\n",
        "hsht_ket_1 = hsht@ket_1\n",
        "# Output results\n",
        "print(\"HSHT applied to |0⟩:\",hsht_ket_0)\n",
        "print(\"HSHT applied to |1⟩:\",hsht_ket_1)"
      ],
      "metadata": {
        "colab": {
          "base_uri": "https://localhost:8080/"
        },
        "id": "-3FNBg37rm5U",
        "outputId": "46c050eb-c65d-443a-a2cf-ea4eee90b63f"
      },
      "execution_count": null,
      "outputs": [
        {
          "output_type": "stream",
          "name": "stdout",
          "text": [
            "HSHT applied to |0⟩: [[0.5+0.5j]\n",
            " [0.5-0.5j]]\n",
            "HSHT applied to |1⟩: [[0.70710678+0.j        ]\n",
            " [0.        +0.70710678j]]\n"
          ]
        }
      ]
    },
    {
      "cell_type": "markdown",
      "source": [
        "2. Checking Reversibility of HSHT Operation"
      ],
      "metadata": {
        "id": "NXgYBqnr3xH0"
      }
    },
    {
      "cell_type": "code",
      "source": [
        "# Create the inverse of the HSHT circuit\n",
        "qc_inv = qc.inverse()\n",
        "\n",
        "# Apply the inverse to the final state to see if it returns to |0⟩\n",
        "reversed_state = final_state.evolve(qc_inv)\n",
        "\n",
        "print(\"\\nStatevector After Applying Inverse (Should Return to |0⟩):\")\n",
        "print(reversed_state)\n",
        "\n",
        "# Check if the result matches the initial state (within numerical tolerance)\n",
        "is_reversible = Statevector.from_label('0').equiv(reversed_state)\n",
        "print(\"\\nIs the operation reversible? \", is_reversible)\n"
      ],
      "metadata": {
        "colab": {
          "base_uri": "https://localhost:8080/"
        },
        "outputId": "af753b96-6bf3-412e-e669-91215e87758b",
        "id": "zysokT_k3xH0"
      },
      "execution_count": null,
      "outputs": [
        {
          "output_type": "stream",
          "name": "stdout",
          "text": [
            "\n",
            "Statevector After Applying Inverse (Should Return to |0⟩):\n",
            "Statevector([1.+0.00000000e+00j, 0.+7.85046229e-17j],\n",
            "            dims=(2,))\n",
            "\n",
            "Is the operation reversible?  True\n"
          ]
        }
      ]
    },
    {
      "cell_type": "code",
      "source": [
        "#checking the reversibility operation on HSHT\n",
        "\n",
        "# Check reversibility by applying the inverse of HSHT\n",
        "HSHT_inverse = np.conjugate(hsht.T)\n",
        "\n",
        "rev0=HSHT_inverse @ hsht_ket_0\n",
        "rev1=HSHT_inverse @ hsht_ket_1"
      ],
      "metadata": {
        "id": "erBH_49or6P_"
      },
      "execution_count": null,
      "outputs": []
    },
    {
      "cell_type": "code",
      "source": [
        "print(\"Reversed HSHT on |0⟩:\", rev0)\n",
        "print(\"Reversed HSHT on |1⟩:\", rev1)"
      ],
      "metadata": {
        "colab": {
          "base_uri": "https://localhost:8080/"
        },
        "id": "p95oXURRsAyf",
        "outputId": "dbfaff32-0123-42f7-d247-0686cf77870d"
      },
      "execution_count": null,
      "outputs": [
        {
          "output_type": "stream",
          "name": "stdout",
          "text": [
            "Reversed HSHT on |0⟩: [[1.+0.j]\n",
            " [0.+0.j]]\n",
            "Reversed HSHT on |1⟩: [[0.+0.j]\n",
            " [1.+0.j]]\n"
          ]
        }
      ]
    },
    {
      "cell_type": "markdown",
      "source": [
        "Reversability of a matrix operations produces the original input of the input state of the circuit ,which is a fact that quantum gates are unitary and the inverse is equivalent to Hermitian conjugate\n",
        "\n",
        "A hermitian matrix is a square matrix that is equal to the transpose of its conjugate matrix."
      ],
      "metadata": {
        "id": "dMEEOakUr1UO"
      }
    },
    {
      "cell_type": "markdown",
      "source": [
        "3. Bell State Generation Using H and CNOT Gates (Statevector Approach)"
      ],
      "metadata": {
        "id": "B8q2fKZl3xH1"
      }
    },
    {
      "cell_type": "code",
      "source": [
        "pip install pylatexenc\n"
      ],
      "metadata": {
        "colab": {
          "base_uri": "https://localhost:8080/"
        },
        "id": "FuPynzqi1uSG",
        "outputId": "738ea7b7-a2a7-4b04-a4cf-cfde9a88b41a"
      },
      "execution_count": null,
      "outputs": [
        {
          "output_type": "stream",
          "name": "stdout",
          "text": [
            "Collecting pylatexenc\n",
            "  Downloading pylatexenc-2.10.tar.gz (162 kB)\n",
            "\u001b[?25l     \u001b[90m━━━━━━━━━━━━━━━━━━━━━━━━━━━━━━━━━━━━━━━━\u001b[0m \u001b[32m0.0/162.6 kB\u001b[0m \u001b[31m?\u001b[0m eta \u001b[36m-:--:--\u001b[0m\r\u001b[2K     \u001b[91m━━━━━━━━━━━━━━━━━━━━━━━━━━━━━━━━━━━━━\u001b[0m\u001b[91m╸\u001b[0m\u001b[90m━━\u001b[0m \u001b[32m153.6/162.6 kB\u001b[0m \u001b[31m5.4 MB/s\u001b[0m eta \u001b[36m0:00:01\u001b[0m\r\u001b[2K     \u001b[90m━━━━━━━━━━━━━━━━━━━━━━━━━━━━━━━━━━━━━━━━\u001b[0m \u001b[32m162.6/162.6 kB\u001b[0m \u001b[31m3.8 MB/s\u001b[0m eta \u001b[36m0:00:00\u001b[0m\n",
            "\u001b[?25h  Preparing metadata (setup.py) ... \u001b[?25l\u001b[?25hdone\n",
            "Building wheels for collected packages: pylatexenc\n",
            "  Building wheel for pylatexenc (setup.py) ... \u001b[?25l\u001b[?25hdone\n",
            "  Created wheel for pylatexenc: filename=pylatexenc-2.10-py3-none-any.whl size=136816 sha256=d041fb47474fdd50646138f88219b78e13936149103dc639c0303064ce7e451d\n",
            "  Stored in directory: /root/.cache/pip/wheels/d3/31/8b/e09b0386afd80cfc556c00408c9aeea5c35c4d484a9c762fd5\n",
            "Successfully built pylatexenc\n",
            "Installing collected packages: pylatexenc\n",
            "Successfully installed pylatexenc-2.10\n"
          ]
        }
      ]
    },
    {
      "cell_type": "code",
      "source": [
        "#Design a quantum circuit using H and Control- Not gate and check the output for various input combinations.\n",
        "#define the CNOT gate\n",
        "\n",
        "CNOT=np.array([[1, 0, 0, 0],\n",
        "                [0, 1, 0, 0],\n",
        "                [0, 0, 0, 1],\n",
        "                [0, 0, 1, 0]])\n",
        "\n",
        "#input states\n",
        "q00 = np.array([1, 0, 0, 0])\n",
        "q01 = np.array([0, 1, 0, 0])  # |01⟩\n",
        "q10 = np.array([0, 0, 1, 0])  # |10⟩\n",
        "q11 = np.array([0, 0, 0, 1])  # |11⟩"
      ],
      "metadata": {
        "id": "kjsI4qGmsXOr"
      },
      "execution_count": null,
      "outputs": []
    },
    {
      "cell_type": "code",
      "source": [
        "H_I=np.kron(H,np.eye(2))\n",
        "print(np.eye(2))\n",
        "print('\\n')\n",
        "print(f\"tensor product of h,I is :\")\n",
        "print(H_I)"
      ],
      "metadata": {
        "colab": {
          "base_uri": "https://localhost:8080/"
        },
        "id": "AWtVWs1Xsar-",
        "outputId": "114b9a5c-dd64-4bbb-f3e5-3b981c3dce27"
      },
      "execution_count": null,
      "outputs": [
        {
          "output_type": "stream",
          "name": "stdout",
          "text": [
            "[[1. 0.]\n",
            " [0. 1.]]\n",
            "\n",
            "\n",
            "tensor product of h,I is :\n",
            "[[ 0.70710678  0.          0.70710678  0.        ]\n",
            " [ 0.          0.70710678  0.          0.70710678]\n",
            " [ 0.70710678  0.         -0.70710678 -0.        ]\n",
            " [ 0.          0.70710678 -0.         -0.70710678]]\n"
          ]
        }
      ]
    },
    {
      "cell_type": "code",
      "source": [
        "h_q00=H_I @ q00\n",
        "h_q01=H_I @ q01\n",
        "h_q10=H_I @ q10\n",
        "h_q11= H_I @ q11\n",
        "\n",
        "print(f\"hadamard on q00:\")\n",
        "print(h_q00)\n",
        "\n",
        "print('\\n')\n",
        "\n",
        "print(f\"hadamard on q01:\")\n",
        "print(h_q01)\n",
        "\n",
        "print('\\n')\n",
        "\n",
        "print(f\"hadamard on q10:\")\n",
        "print(h_q10)\n",
        "\n",
        "print('\\n')\n",
        "\n",
        "print(f\"hadamard on q11:\")\n",
        "print(h_q11)"
      ],
      "metadata": {
        "colab": {
          "base_uri": "https://localhost:8080/"
        },
        "id": "tbMFkE3dseL8",
        "outputId": "9904c6a3-33ba-4e9e-9b02-712979eadc0f"
      },
      "execution_count": null,
      "outputs": [
        {
          "output_type": "stream",
          "name": "stdout",
          "text": [
            "hadamard on q00:\n",
            "[0.70710678 0.         0.70710678 0.        ]\n",
            "\n",
            "\n",
            "hadamard on q01:\n",
            "[0.         0.70710678 0.         0.70710678]\n",
            "\n",
            "\n",
            "hadamard on q10:\n",
            "[ 0.70710678  0.         -0.70710678  0.        ]\n",
            "\n",
            "\n",
            "hadamard on q11:\n",
            "[ 0.          0.70710678  0.         -0.70710678]\n"
          ]
        }
      ]
    },
    {
      "cell_type": "code",
      "source": [
        "#Apply CNOT to the result\n",
        "CNOT_H_q00 = CNOT @ h_q00\n",
        "print(\"input result of 00\")\n",
        "print(CNOT_H_q00)\n",
        "\n",
        "print('\\n')\n",
        "\n",
        "\n",
        "CNOT_H_q01=CNOT @ h_q01\n",
        "print(\"input result of 01\")\n",
        "print(CNOT_H_q01)\n",
        "\n",
        "print('\\n')\n",
        "\n",
        "CNOT_H_q10= CNOT @ h_q10\n",
        "print(\"input result of 10\")\n",
        "print(CNOT_H_q10)\n",
        "\n",
        "print('\\n')\n",
        "\n",
        "\n",
        "CNOT_H_q11=CNOT @ h_q11\n",
        "print(\"input result of 11\")\n",
        "print(CNOT_H_q11)"
      ],
      "metadata": {
        "colab": {
          "base_uri": "https://localhost:8080/"
        },
        "id": "cpD-eFpBshli",
        "outputId": "22848398-e23f-4a3b-ca8d-037e8cec8944"
      },
      "execution_count": null,
      "outputs": [
        {
          "output_type": "stream",
          "name": "stdout",
          "text": [
            "input result of 00\n",
            "[0.70710678 0.         0.         0.70710678]\n",
            "\n",
            "\n",
            "input result of 01\n",
            "[0.         0.70710678 0.70710678 0.        ]\n",
            "\n",
            "\n",
            "input result of 10\n",
            "[ 0.70710678  0.          0.         -0.70710678]\n",
            "\n",
            "\n",
            "input result of 11\n",
            "[ 0.          0.70710678 -0.70710678  0.        ]\n"
          ]
        }
      ]
    },
    {
      "cell_type": "code",
      "source": [
        "from qiskit import QuantumCircuit\n",
        "\n",
        "# Example Bell circuit\n",
        "bell_circuit = QuantumCircuit(2)\n",
        "bell_circuit.h(0)\n",
        "bell_circuit.cx(0, 1)\n",
        "\n",
        "# Draw the circuit with matplotlib\n",
        "bell_circuit.draw(output= 'mpl')\n"
      ],
      "metadata": {
        "colab": {
          "base_uri": "https://localhost:8080/",
          "height": 191
        },
        "id": "auuVoLcR2QsJ",
        "outputId": "3afa53b0-b9a5-44a4-9076-3f430046c21e"
      },
      "execution_count": null,
      "outputs": [
        {
          "output_type": "execute_result",
          "data": {
            "text/plain": [
              "<Figure size 287.294x200.667 with 1 Axes>"
            ],
            "image/png": "[encoded data removed]"
          },
          "metadata": {},
          "execution_count": 5
        }
      ]
    },
    {
      "cell_type": "code",
      "source": [
        "from qiskit import QuantumCircuit,QuantumRegister,ClassicalRegister\n",
        "X = QuantumRegister(1, \"X\")\n",
        "Y = QuantumRegister(1, \"Y\")\n",
        "A = ClassicalRegister(1, \"A\")\n",
        "B = ClassicalRegister(1, \"B\")\n",
        "\n",
        "circuit = QuantumCircuit(Y, X, B, A)\n",
        "circuit.h(Y)\n",
        "circuit.cx(Y, X)\n",
        "circuit.measure(Y, B)\n",
        "circuit.measure(X, A)\n",
        "\n",
        "display(circuit.draw('mpl'))"
      ],
      "metadata": {
        "colab": {
          "base_uri": "https://localhost:8080/",
          "height": 320
        },
        "id": "6q9PDRb2ssH4",
        "outputId": "be11efdb-6e7c-46b2-d7d2-a4c9544f49b4"
      },
      "execution_count": null,
      "outputs": [
        {
          "output_type": "display_data",
          "data": {
            "text/plain": [
              "<Figure size 437.882x367.889 with 1 Axes>"
            ],
            "image/png": "[encoded data removed]"
          },
          "metadata": {}
        }
      ]
    },
    {
      "cell_type": "code",
      "source": [
        "from qiskit import QuantumCircuit\n",
        "from qiskit.quantum_info import Statevector\n",
        "\n",
        "# Initialize the |00⟩ state as the starting statevector\n",
        "initial_bell_state = Statevector.from_label('00')\n",
        "\n",
        "# Create a quantum circuit for the Bell state\n",
        "bell_circuit = QuantumCircuit(2)\n",
        "\n",
        "# Apply Hadamard on qubit 0\n",
        "bell_circuit.h(0)\n",
        "\n",
        "# Apply CNOT with control on qubit 0 and target on qubit 1\n",
        "bell_circuit.cx(0, 1)\n",
        "\n",
        "# Get the final statevector representing the Bell state\n",
        "bell_state = initial_bell_state.evolve(bell_circuit)\n",
        "\n",
        "print(\"\\nBell State Final Statevector:\")\n",
        "print(bell_state)\n",
        "# Display the circuit with an alternative drawing method if 'mpl' mode is problematic\n",
        "try:\n",
        "    bell_circuit.draw('mpl')\n",
        "except Exception as e:\n",
        "    print(\"\\nCould not render in 'mpl' mode. Displaying in 'text' mode instead:\")\n",
        "    print(bell_circuit.draw('text'))\n",
        "\n"
      ],
      "metadata": {
        "colab": {
          "base_uri": "https://localhost:8080/"
        },
        "outputId": "3672f920-8b8f-4a20-ecb2-ccdc39be3f8b",
        "id": "HDsp0Mj93xH4"
      },
      "execution_count": null,
      "outputs": [
        {
          "output_type": "stream",
          "name": "stdout",
          "text": [
            "\n",
            "Bell State Final Statevector:\n",
            "Statevector([0.70710678+0.j, 0.        +0.j, 0.        +0.j,\n",
            "             0.70710678+0.j],\n",
            "            dims=(2, 2))\n"
          ]
        }
      ]
    },
    {
      "cell_type": "code",
      "source": [
        "from qiskit.visualization import plot_histogram\n",
        "from qiskit.primitives import Sampler\n",
        "#simulate the Quantum circuit\n",
        "results=Sampler().run(circuit).result()\n",
        "statistics = results.quasi_dists[0].binary_probabilities()\n",
        "display(plot_histogram(statistics))"
      ],
      "metadata": {
        "colab": {
          "base_uri": "https://localhost:8080/",
          "height": 492
        },
        "id": "IKezrL0Xs1iL",
        "outputId": "4705c120-bede-40d1-8770-f6c67178e1ae"
      },
      "execution_count": null,
      "outputs": [
        {
          "output_type": "stream",
          "name": "stderr",
          "text": [
            "<ipython-input-24-b851f3298d65>:4: DeprecationWarning: The class ``qiskit.primitives.sampler.Sampler`` is deprecated as of qiskit 1.2. It will be removed no earlier than 3 months after the release date. All implementations of the `BaseSamplerV1` interface have been deprecated in favor of their V2 counterparts. The V2 alternative for the `Sampler` class is `StatevectorSampler`.\n",
            "  results=Sampler().run(circuit).result()\n"
          ]
        },
        {
          "output_type": "display_data",
          "data": {
            "text/plain": [
              "<Figure size 640x480 with 1 Axes>"
            ],
            "image/png": "[encoded data removed]"
          },
          "metadata": {}
        }
      ]
    },
    {
      "cell_type": "markdown",
      "source": [
        "HSHT Circuit:\n",
        "\n",
        "The statevector after applying HSHT gates shows the evolution of the qubit from the initial state |0⟩.\n",
        "Applying the inverse circuit should return the state to |0⟩, demonstrating reversibility.\n",
        "Bell State Circuit:\n",
        "\n",
        "The Bell state vector should result in an entangled state like:\n",
        "1/sqrt(2)\n",
        "(\n",
        "∣\n",
        "00\n",
        "⟩\n",
        "+\n",
        "∣\n",
        "11\n",
        "⟩\n",
        ")\n",
        "\n",
        "This confirms the generation of a Bell state using Hadamard and CNOT gates."
      ],
      "metadata": {
        "id": "OLazJRsR3xH4"
      }
    }
  ]
}