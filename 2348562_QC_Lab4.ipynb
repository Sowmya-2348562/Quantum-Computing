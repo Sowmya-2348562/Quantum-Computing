{
  "nbformat": 4,
  "nbformat_minor": 0,
  "metadata": {
    "colab": {
      "provenance": [],
      "authorship_tag": "ABX9TyNdofGAGnTwouvb5NhiWgy0",
      "include_colab_link": true
    },
    "kernelspec": {
      "name": "python3",
      "display_name": "Python 3"
    },
    "language_info": {
      "name": "python"
    }
  },
  "cells": [
    {
      "cell_type": "markdown",
      "metadata": {
        "id": "view-in-github",
        "colab_type": "text"
      },
      "source": [
        "<a href=\"https://colab.research.google.com/github/Sowmya-2348562/Quantum-Computing/blob/main/2348562_QC_Lab4.ipynb\" target=\"_parent\"><img src=\"https://colab.research.google.com/assets/colab-badge.svg\" alt=\"Open In Colab\"/></a>"
      ]
    },
    {
      "cell_type": "markdown",
      "source": [
        "# Design of quantum circuits"
      ],
      "metadata": {
        "id": "sGsKJQx2kDey"
      }
    },
    {
      "cell_type": "code",
      "source": [
        "pip install qiskit"
      ],
      "metadata": {
        "colab": {
          "base_uri": "https://localhost:8080/"
        },
        "id": "s9xIq9MdkEXb",
        "outputId": "c67dd16e-fe0c-4925-ae83-f8ff5c159d71"
      },
      "execution_count": 2,
      "outputs": [
        {
          "output_type": "stream",
          "name": "stdout",
          "text": [
            "Collecting qiskit\n",
            "  Downloading qiskit-1.2.4-cp38-abi3-manylinux_2_17_x86_64.manylinux2014_x86_64.whl.metadata (12 kB)\n",
            "Collecting rustworkx>=0.15.0 (from qiskit)\n",
            "  Downloading rustworkx-0.15.1-cp38-abi3-manylinux_2_17_x86_64.manylinux2014_x86_64.whl.metadata (9.9 kB)\n",
            "Requirement already satisfied: numpy<3,>=1.17 in /usr/local/lib/python3.10/dist-packages (from qiskit) (1.26.4)\n",
            "Requirement already satisfied: scipy>=1.5 in /usr/local/lib/python3.10/dist-packages (from qiskit) (1.13.1)\n",
            "Requirement already satisfied: sympy>=1.3 in /usr/local/lib/python3.10/dist-packages (from qiskit) (1.13.3)\n",
            "Collecting dill>=0.3 (from qiskit)\n",
            "  Downloading dill-0.3.9-py3-none-any.whl.metadata (10 kB)\n",
            "Requirement already satisfied: python-dateutil>=2.8.0 in /usr/local/lib/python3.10/dist-packages (from qiskit) (2.8.2)\n",
            "Collecting stevedore>=3.0.0 (from qiskit)\n",
            "  Downloading stevedore-5.3.0-py3-none-any.whl.metadata (2.3 kB)\n",
            "Requirement already satisfied: typing-extensions in /usr/local/lib/python3.10/dist-packages (from qiskit) (4.12.2)\n",
            "Collecting symengine<0.14,>=0.11 (from qiskit)\n",
            "  Downloading symengine-0.13.0-cp310-cp310-manylinux_2_17_x86_64.manylinux2014_x86_64.whl.metadata (1.2 kB)\n",
            "Requirement already satisfied: six>=1.5 in /usr/local/lib/python3.10/dist-packages (from python-dateutil>=2.8.0->qiskit) (1.16.0)\n",
            "Collecting pbr>=2.0.0 (from stevedore>=3.0.0->qiskit)\n",
            "  Downloading pbr-6.1.0-py2.py3-none-any.whl.metadata (3.4 kB)\n",
            "Requirement already satisfied: mpmath<1.4,>=1.1.0 in /usr/local/lib/python3.10/dist-packages (from sympy>=1.3->qiskit) (1.3.0)\n",
            "Downloading qiskit-1.2.4-cp38-abi3-manylinux_2_17_x86_64.manylinux2014_x86_64.whl (4.8 MB)\n",
            "\u001b[2K   \u001b[90m━━━━━━━━━━━━━━━━━━━━━━━━━━━━━━━━━━━━━━━━\u001b[0m \u001b[32m4.8/4.8 MB\u001b[0m \u001b[31m38.7 MB/s\u001b[0m eta \u001b[36m0:00:00\u001b[0m\n",
            "\u001b[?25hDownloading dill-0.3.9-py3-none-any.whl (119 kB)\n",
            "\u001b[2K   \u001b[90m━━━━━━━━━━━━━━━━━━━━━━━━━━━━━━━━━━━━━━━━\u001b[0m \u001b[32m119.4/119.4 kB\u001b[0m \u001b[31m10.9 MB/s\u001b[0m eta \u001b[36m0:00:00\u001b[0m\n",
            "\u001b[?25hDownloading rustworkx-0.15.1-cp38-abi3-manylinux_2_17_x86_64.manylinux2014_x86_64.whl (2.0 MB)\n",
            "\u001b[2K   \u001b[90m━━━━━━━━━━━━━━━━━━━━━━━━━━━━━━━━━━━━━━━━\u001b[0m \u001b[32m2.0/2.0 MB\u001b[0m \u001b[31m71.4 MB/s\u001b[0m eta \u001b[36m0:00:00\u001b[0m\n",
            "\u001b[?25hDownloading stevedore-5.3.0-py3-none-any.whl (49 kB)\n",
            "\u001b[2K   \u001b[90m━━━━━━━━━━━━━━━━━━━━━━━━━━━━━━━━━━━━━━━━\u001b[0m \u001b[32m49.7/49.7 kB\u001b[0m \u001b[31m3.4 MB/s\u001b[0m eta \u001b[36m0:00:00\u001b[0m\n",
            "\u001b[?25hDownloading symengine-0.13.0-cp310-cp310-manylinux_2_17_x86_64.manylinux2014_x86_64.whl (49.7 MB)\n",
            "\u001b[2K   \u001b[90m━━━━━━━━━━━━━━━━━━━━━━━━━━━━━━━━━━━━━━━━\u001b[0m \u001b[32m49.7/49.7 MB\u001b[0m \u001b[31m17.5 MB/s\u001b[0m eta \u001b[36m0:00:00\u001b[0m\n",
            "\u001b[?25hDownloading pbr-6.1.0-py2.py3-none-any.whl (108 kB)\n",
            "\u001b[2K   \u001b[90m━━━━━━━━━━━━━━━━━━━━━━━━━━━━━━━━━━━━━━━━\u001b[0m \u001b[32m108.5/108.5 kB\u001b[0m \u001b[31m8.8 MB/s\u001b[0m eta \u001b[36m0:00:00\u001b[0m\n",
            "\u001b[?25hInstalling collected packages: symengine, rustworkx, pbr, dill, stevedore, qiskit\n",
            "Successfully installed dill-0.3.9 pbr-6.1.0 qiskit-1.2.4 rustworkx-0.15.1 stevedore-5.3.0 symengine-0.13.0\n"
          ]
        }
      ]
    },
    {
      "cell_type": "markdown",
      "source": [
        "1. HSHT Circuit Using Statevectors"
      ],
      "metadata": {
        "id": "UrBtrCwHlDt0"
      }
    },
    {
      "cell_type": "code",
      "source": [
        "import qiskit\n",
        "from qiskit.quantum_info import Statevector\n",
        "\n",
        "# Initialize the |0⟩ state as the starting statevector\n",
        "initial_state = Statevector.from_label('0')\n",
        "\n",
        "# Create the quantum circuit to apply HSHT operations\n",
        "qc = qiskit.QuantumCircuit(1)\n",
        "\n",
        "# Apply Hadamard, Phase (S), Hadamard, and T gate\n",
        "qc.h(0)  # H gate\n",
        "qc.s(0)  # S gate\n",
        "qc.h(0)  # Another H gate\n",
        "qc.t(0)  # T gate\n",
        "\n",
        "# Get the final statevector after applying the gates\n",
        "final_state = initial_state.evolve(qc)\n",
        "\n",
        "# Display the resulting statevector\n",
        "print(\"HSHT Operation Final Statevector:\")\n",
        "print(final_state)\n"
      ],
      "metadata": {
        "colab": {
          "base_uri": "https://localhost:8080/"
        },
        "id": "5rV8N4sGj8Ss",
        "outputId": "c7b1b491-711a-4fe9-a63f-27716a8a3c11"
      },
      "execution_count": 4,
      "outputs": [
        {
          "output_type": "stream",
          "name": "stdout",
          "text": [
            "HSHT Operation Final Statevector:\n",
            "Statevector([0.5       +0.5j, 0.70710678+0.j ],\n",
            "            dims=(2,))\n",
            "HSHT Operation Final Statevector:\n",
            "Statevector([0.5       +0.5j, 0.70710678+0.j ],\n",
            "            dims=(2,))\n"
          ]
        }
      ]
    },
    {
      "cell_type": "markdown",
      "source": [
        "2. Checking Reversibility of HSHT Operation"
      ],
      "metadata": {
        "id": "WuoBHACOk_sd"
      }
    },
    {
      "cell_type": "code",
      "source": [
        "# Create the inverse of the HSHT circuit\n",
        "qc_inv = qc.inverse()\n",
        "\n",
        "# Apply the inverse to the final state to see if it returns to |0⟩\n",
        "reversed_state = final_state.evolve(qc_inv)\n",
        "\n",
        "print(\"\\nStatevector After Applying Inverse (Should Return to |0⟩):\")\n",
        "print(reversed_state)\n",
        "\n",
        "# Check if the result matches the initial state (within numerical tolerance)\n",
        "is_reversible = Statevector.from_label('0').equiv(reversed_state)\n",
        "print(\"\\nIs the operation reversible? \", is_reversible)\n"
      ],
      "metadata": {
        "colab": {
          "base_uri": "https://localhost:8080/"
        },
        "id": "9kov22jqkZ3E",
        "outputId": "bf47795c-2e9f-4a41-d7d5-f8ac41cddfe2"
      },
      "execution_count": 6,
      "outputs": [
        {
          "output_type": "stream",
          "name": "stdout",
          "text": [
            "\n",
            "Statevector After Applying Inverse (Should Return to |0⟩):\n",
            "Statevector([1.+0.00000000e+00j, 0.+7.85046229e-17j],\n",
            "            dims=(2,))\n",
            "\n",
            "Is the operation reversible?  True\n"
          ]
        }
      ]
    },
    {
      "cell_type": "markdown",
      "source": [
        "3. Bell State Generation Using H and CNOT Gates (Statevector Approach)"
      ],
      "metadata": {
        "id": "nkdNcaydk8tp"
      }
    },
    {
      "cell_type": "code",
      "source": [
        "# Initialize the |00⟩ state as the starting statevector\n",
        "initial_bell_state = Statevector.from_label('00')\n",
        "\n",
        "# Create a quantum circuit for the Bell state\n",
        "bell_circuit = qiskit.QuantumCircuit(2)\n",
        "\n",
        "# Apply Hadamard on qubit 0\n",
        "bell_circuit.h(0)\n",
        "\n",
        "# Apply CNOT with control on qubit 0 and target on qubit 1\n",
        "bell_circuit.cx(0, 1)\n",
        "\n",
        "# Get the final statevector representing the Bell state\n",
        "bell_state = initial_bell_state.evolve(bell_circuit)\n",
        "\n",
        "print(\"\\nBell State Final Statevector:\")\n",
        "print(bell_state)\n",
        "\n",
        "# Display the circuit\n",
        "bell_circuit.draw('mpl')\n"
      ],
      "metadata": {
        "id": "JvtPY6jgkgmy"
      },
      "execution_count": null,
      "outputs": []
    },
    {
      "cell_type": "markdown",
      "source": [
        "HSHT Circuit:\n",
        "\n",
        "The statevector after applying HSHT gates shows the evolution of the qubit from the initial state |0⟩.\n",
        "Applying the inverse circuit should return the state to |0⟩, demonstrating reversibility.\n",
        "Bell State Circuit:\n",
        "\n",
        "The Bell state vector should result in an entangled state like:\n",
        "1/sqrt(2)\n",
        "(\n",
        "∣\n",
        "00\n",
        "⟩\n",
        "+\n",
        "∣\n",
        "11\n",
        "⟩\n",
        ")\n",
        "\n",
        "This confirms the generation of a Bell state using Hadamard and CNOT gates."
      ],
      "metadata": {
        "id": "Zqh7TGAykpZ9"
      }
    }
  ]
}