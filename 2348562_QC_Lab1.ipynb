{
  "nbformat": 4,
  "nbformat_minor": 0,
  "metadata": {
    "colab": {
      "provenance": [],
      "authorship_tag": "ABX9TyN9FmYYHoQYfzVggc7epjIk",
      "include_colab_link": true
    },
    "kernelspec": {
      "name": "python3",
      "display_name": "Python 3"
    },
    "language_info": {
      "name": "python"
    }
  },
  "cells": [
    {
      "cell_type": "markdown",
      "metadata": {
        "id": "view-in-github",
        "colab_type": "text"
      },
      "source": [
        "<a href=\"https://colab.research.google.com/github/Sowmya-2348562/Quantum-Computing/blob/main/2348562_QC_Lab1.ipynb\" target=\"_parent\"><img src=\"https://colab.research.google.com/assets/colab-badge.svg\" alt=\"Open In Colab\"/></a>"
      ]
    },
    {
      "cell_type": "code",
      "source": [
        "pip install qiskit"
      ],
      "metadata": {
        "colab": {
          "base_uri": "https://localhost:8080/"
        },
        "id": "VUZuuyXcR3xZ",
        "outputId": "455a75c2-cfab-4783-b782-9fac1ba1f6af"
      },
      "execution_count": 7,
      "outputs": [
        {
          "output_type": "stream",
          "name": "stdout",
          "text": [
            "Collecting qiskit\n",
            "  Downloading qiskit-1.2.4-cp38-abi3-manylinux_2_17_x86_64.manylinux2014_x86_64.whl.metadata (12 kB)\n",
            "Collecting rustworkx>=0.15.0 (from qiskit)\n",
            "  Downloading rustworkx-0.15.1-cp38-abi3-manylinux_2_17_x86_64.manylinux2014_x86_64.whl.metadata (9.9 kB)\n",
            "Requirement already satisfied: numpy<3,>=1.17 in /usr/local/lib/python3.10/dist-packages (from qiskit) (1.26.4)\n",
            "Requirement already satisfied: scipy>=1.5 in /usr/local/lib/python3.10/dist-packages (from qiskit) (1.13.1)\n",
            "Requirement already satisfied: sympy>=1.3 in /usr/local/lib/python3.10/dist-packages (from qiskit) (1.13.1)\n",
            "Collecting dill>=0.3 (from qiskit)\n",
            "  Downloading dill-0.3.9-py3-none-any.whl.metadata (10 kB)\n",
            "Requirement already satisfied: python-dateutil>=2.8.0 in /usr/local/lib/python3.10/dist-packages (from qiskit) (2.8.2)\n",
            "Collecting stevedore>=3.0.0 (from qiskit)\n",
            "  Downloading stevedore-5.3.0-py3-none-any.whl.metadata (2.3 kB)\n",
            "Requirement already satisfied: typing-extensions in /usr/local/lib/python3.10/dist-packages (from qiskit) (4.12.2)\n",
            "Collecting symengine<0.14,>=0.11 (from qiskit)\n",
            "  Downloading symengine-0.13.0-cp310-cp310-manylinux_2_17_x86_64.manylinux2014_x86_64.whl.metadata (1.2 kB)\n",
            "Requirement already satisfied: six>=1.5 in /usr/local/lib/python3.10/dist-packages (from python-dateutil>=2.8.0->qiskit) (1.16.0)\n",
            "Collecting pbr>=2.0.0 (from stevedore>=3.0.0->qiskit)\n",
            "  Downloading pbr-6.1.0-py2.py3-none-any.whl.metadata (3.4 kB)\n",
            "Requirement already satisfied: mpmath<1.4,>=1.1.0 in /usr/local/lib/python3.10/dist-packages (from sympy>=1.3->qiskit) (1.3.0)\n",
            "Downloading qiskit-1.2.4-cp38-abi3-manylinux_2_17_x86_64.manylinux2014_x86_64.whl (4.8 MB)\n",
            "\u001b[2K   \u001b[90m━━━━━━━━━━━━━━━━━━━━━━━━━━━━━━━━━━━━━━━━\u001b[0m \u001b[32m4.8/4.8 MB\u001b[0m \u001b[31m32.7 MB/s\u001b[0m eta \u001b[36m0:00:00\u001b[0m\n",
            "\u001b[?25hDownloading dill-0.3.9-py3-none-any.whl (119 kB)\n",
            "\u001b[2K   \u001b[90m━━━━━━━━━━━━━━━━━━━━━━━━━━━━━━━━━━━━━━━━\u001b[0m \u001b[32m119.4/119.4 kB\u001b[0m \u001b[31m7.7 MB/s\u001b[0m eta \u001b[36m0:00:00\u001b[0m\n",
            "\u001b[?25hDownloading rustworkx-0.15.1-cp38-abi3-manylinux_2_17_x86_64.manylinux2014_x86_64.whl (2.0 MB)\n",
            "\u001b[2K   \u001b[90m━━━━━━━━━━━━━━━━━━━━━━━━━━━━━━━━━━━━━━━━\u001b[0m \u001b[32m2.0/2.0 MB\u001b[0m \u001b[31m53.1 MB/s\u001b[0m eta \u001b[36m0:00:00\u001b[0m\n",
            "\u001b[?25hDownloading stevedore-5.3.0-py3-none-any.whl (49 kB)\n",
            "\u001b[2K   \u001b[90m━━━━━━━━━━━━━━━━━━━━━━━━━━━━━━━━━━━━━━━━\u001b[0m \u001b[32m49.7/49.7 kB\u001b[0m \u001b[31m2.6 MB/s\u001b[0m eta \u001b[36m0:00:00\u001b[0m\n",
            "\u001b[?25hDownloading symengine-0.13.0-cp310-cp310-manylinux_2_17_x86_64.manylinux2014_x86_64.whl (49.7 MB)\n",
            "\u001b[2K   \u001b[90m━━━━━━━━━━━━━━━━━━━━━━━━━━━━━━━━━━━━━━━━\u001b[0m \u001b[32m49.7/49.7 MB\u001b[0m \u001b[31m13.4 MB/s\u001b[0m eta \u001b[36m0:00:00\u001b[0m\n",
            "\u001b[?25hDownloading pbr-6.1.0-py2.py3-none-any.whl (108 kB)\n",
            "\u001b[2K   \u001b[90m━━━━━━━━━━━━━━━━━━━━━━━━━━━━━━━━━━━━━━━━\u001b[0m \u001b[32m108.5/108.5 kB\u001b[0m \u001b[31m6.1 MB/s\u001b[0m eta \u001b[36m0:00:00\u001b[0m\n",
            "\u001b[?25hInstalling collected packages: symengine, rustworkx, pbr, dill, stevedore, qiskit\n",
            "Successfully installed dill-0.3.9 pbr-6.1.0 qiskit-1.2.4 rustworkx-0.15.1 stevedore-5.3.0 symengine-0.13.0\n"
          ]
        }
      ]
    },
    {
      "cell_type": "code",
      "source": [
        "# Required imports for code cells\n",
        "\n",
        "from qiskit.quantum_info import Statevector, Operator, DensityMatrix\n",
        "from qiskit.visualization import array_to_latex\n",
        "import numpy as np\n",
        "from numpy import linalg\n",
        "\n",
        "print('Imports loaded.')"
      ],
      "metadata": {
        "colab": {
          "base_uri": "https://localhost:8080/"
        },
        "id": "oxLiK9NJR2Dw",
        "outputId": "e4132c7b-d9ee-449b-f0d6-36ff60beaa10"
      },
      "execution_count": 8,
      "outputs": [
        {
          "output_type": "stream",
          "name": "stdout",
          "text": [
            "Imports loaded.\n"
          ]
        }
      ]
    },
    {
      "cell_type": "code",
      "source": [
        "pip install Statevector"
      ],
      "metadata": {
        "colab": {
          "base_uri": "https://localhost:8080/"
        },
        "id": "lwSKEF93RiKh",
        "outputId": "00f2b9cd-6f69-4ae3-ffe5-9fdec096f4eb"
      },
      "execution_count": 4,
      "outputs": [
        {
          "output_type": "stream",
          "name": "stdout",
          "text": [
            "Collecting Statevector\n",
            "  Downloading StateVector-0.1-py3-none-any.whl.metadata (4.1 kB)\n",
            "Requirement already satisfied: numpy in /usr/local/lib/python3.10/dist-packages (from Statevector) (1.26.4)\n",
            "Requirement already satisfied: scipy in /usr/local/lib/python3.10/dist-packages (from Statevector) (1.13.1)\n",
            "Downloading StateVector-0.1-py3-none-any.whl (5.5 kB)\n",
            "Installing collected packages: Statevector\n",
            "Successfully installed Statevector-0.1\n"
          ]
        }
      ]
    },
    {
      "cell_type": "code",
      "execution_count": 9,
      "metadata": {
        "colab": {
          "base_uri": "https://localhost:8080/",
          "height": 303
        },
        "id": "L-v4x5RERbsF",
        "outputId": "bb75f7d9-ecf4-452c-91a9-10d6989a1566"
      },
      "outputs": [
        {
          "output_type": "display_data",
          "data": {
            "text/plain": [
              "<IPython.core.display.Latex object>"
            ],
            "text/latex": "$$\n\n\\begin{bmatrix}\n1 & 0  \\\\\n 0 & 0  \\\\\n \\end{bmatrix}\n$$"
          },
          "metadata": {}
        },
        {
          "output_type": "display_data",
          "data": {
            "text/plain": [
              "<IPython.core.display.Latex object>"
            ],
            "text/latex": "$$\n\n\\begin{bmatrix}\n0 & 0  \\\\\n 0 & 1  \\\\\n \\end{bmatrix}\n$$"
          },
          "metadata": {}
        },
        {
          "output_type": "display_data",
          "data": {
            "text/plain": [
              "<IPython.core.display.Latex object>"
            ],
            "text/latex": "$$\n\n\\begin{bmatrix}\n\\frac{1}{2} & \\frac{1}{2}  \\\\\n \\frac{1}{2} & \\frac{1}{2}  \\\\\n \\end{bmatrix}\n$$"
          },
          "metadata": {}
        },
        {
          "output_type": "display_data",
          "data": {
            "text/plain": [
              "<IPython.core.display.Latex object>"
            ],
            "text/latex": "$$\n\n\\begin{bmatrix}\n\\frac{1}{2} & - \\frac{1}{2}  \\\\\n - \\frac{1}{2} & \\frac{1}{2}  \\\\\n \\end{bmatrix}\n$$"
          },
          "metadata": {}
        },
        {
          "output_type": "display_data",
          "data": {
            "text/plain": [
              "<IPython.core.display.Latex object>"
            ],
            "text/latex": "$$\n\n\\begin{bmatrix}\n\\frac{1}{2} & - \\frac{i}{2}  \\\\\n \\frac{i}{2} & \\frac{1}{2}  \\\\\n \\end{bmatrix}\n$$"
          },
          "metadata": {}
        },
        {
          "output_type": "display_data",
          "data": {
            "text/plain": [
              "<IPython.core.display.Latex object>"
            ],
            "text/latex": "$$\n\n\\begin{bmatrix}\n\\frac{1}{2} & \\frac{i}{2}  \\\\\n - \\frac{i}{2} & \\frac{1}{2}  \\\\\n \\end{bmatrix}\n$$"
          },
          "metadata": {}
        },
        {
          "output_type": "display_data",
          "data": {
            "text/plain": [
              "<IPython.core.display.Latex object>"
            ],
            "text/latex": "$$\n\n\\begin{bmatrix}\n\\frac{5}{9} & - \\frac{2}{9} - \\frac{4 i}{9}  \\\\\n - \\frac{2}{9} + \\frac{4 i}{9} & \\frac{4}{9}  \\\\\n \\end{bmatrix}\n$$"
          },
          "metadata": {}
        }
      ],
      "source": [
        "# Define and display examples of density matrices\n",
        "# using the Statevector package\n",
        "\n",
        "ket_0 = Statevector.from_label('0')\n",
        "ket_1 = Statevector.from_label('1')\n",
        "ket_plus = Statevector.from_label('+')\n",
        "ket_minus = Statevector.from_label('-')\n",
        "ket_iplus = Statevector.from_label('r')\n",
        "ket_iminus = Statevector.from_label('l')\n",
        "v = Statevector([(1 + 2j) / 3, -2 / 3])\n",
        "\n",
        "display(array_to_latex(ket_0.to_operator()))\n",
        "display(array_to_latex(ket_1.to_operator()))\n",
        "display(array_to_latex(ket_plus.to_operator()))\n",
        "display(array_to_latex(ket_minus.to_operator()))\n",
        "display(array_to_latex(ket_iplus.to_operator()))\n",
        "display(array_to_latex(ket_iminus.to_operator()))\n",
        "display(array_to_latex(v.to_operator()))"
      ]
    },
    {
      "cell_type": "code",
      "source": [
        "# Import necessary libraries\n",
        "import numpy as np\n",
        "from qiskit.quantum_info import Statevector\n",
        "from qiskit.visualization import plot_histogram\n"
      ],
      "metadata": {
        "id": "BReTavA4jgk3"
      },
      "execution_count": null,
      "outputs": []
    },
    {
      "cell_type": "code",
      "source": [
        "# Defining qubit state vectors |0⟩ and |1⟩ in matrix notation using NumPy\n",
        "ket0 = np.array([1, 0])  # |0⟩\n",
        "ket1 = np.array([0, 1])  # |1⟩\n",
        "\n",
        "# Display the state vectors\n",
        "print(\"State vector |0⟩ (ket0):\", ket0)\n",
        "print(\"State vector |1⟩ (ket1):\", ket1)\n"
      ],
      "metadata": {
        "colab": {
          "base_uri": "https://localhost:8080/"
        },
        "id": "FqUPE0V2jlq6",
        "outputId": "70275f2e-cbed-40ac-d83a-f75392bf949f"
      },
      "execution_count": null,
      "outputs": [
        {
          "output_type": "stream",
          "name": "stdout",
          "text": [
            "State vector |0⟩ (ket0): [1 0]\n",
            "State vector |1⟩ (ket1): [0 1]\n"
          ]
        }
      ]
    },
    {
      "cell_type": "code",
      "source": [
        "# Defining a superposition state |ψ⟩ = (|0⟩ + |1⟩) / sqrt(2)\n",
        "alpha, beta = 1/np.sqrt(2), 1/np.sqrt(2)\n",
        "superposition_state = alpha * ket0 + beta * ket1  # Superposition state\n",
        "\n",
        "# Create a Statevector object using Qiskit\n",
        "psi_state = Statevector(superposition_state)\n",
        "\n",
        "# Display the superposition state |ψ⟩\n",
        "print(\"\\nSuperposition state vector |ψ⟩:\", psi_state)\n"
      ],
      "metadata": {
        "colab": {
          "base_uri": "https://localhost:8080/"
        },
        "id": "kout2RMXjri5",
        "outputId": "bd378d6d-a2d0-45b5-c8bb-cf39b2624420"
      },
      "execution_count": null,
      "outputs": [
        {
          "output_type": "stream",
          "name": "stdout",
          "text": [
            "\n",
            "Superposition state vector |ψ⟩: Statevector([0.70710678+0.j, 0.70710678+0.j],\n",
            "            dims=(2,))\n"
          ]
        }
      ]
    },
    {
      "cell_type": "code",
      "source": [
        "# Checking if the state is valid (the norm of the vector should be 1)\n",
        "is_valid = psi_state.is_valid()\n",
        "print(\"Is the state vector valid?\", is_valid)\n"
      ],
      "metadata": {
        "colab": {
          "base_uri": "https://localhost:8080/"
        },
        "id": "7UUgFPFujrfp",
        "outputId": "c892e683-e059-485a-b13a-584083dbd999"
      },
      "execution_count": null,
      "outputs": [
        {
          "output_type": "stream",
          "name": "stdout",
          "text": [
            "Is the state vector valid? True\n"
          ]
        }
      ]
    },
    {
      "cell_type": "code",
      "source": [
        "# Simulating a measurement on |ψ⟩\n",
        "measurement_outcome = psi_state.measure()\n",
        "print(\"\\nMeasurement outcome:\", measurement_outcome)\n"
      ],
      "metadata": {
        "colab": {
          "base_uri": "https://localhost:8080/"
        },
        "id": "zDQDS6rLjwIr",
        "outputId": "c4e09c66-2f3d-47ee-856a-d408f7ee49c5"
      },
      "execution_count": null,
      "outputs": [
        {
          "output_type": "stream",
          "name": "stdout",
          "text": [
            "\n",
            "Measurement outcome: ('1', Statevector([0.+0.j, 1.+0.j],\n",
            "            dims=(2,)))\n"
          ]
        }
      ]
    },
    {
      "cell_type": "code",
      "source": [
        "# Simulating 1000 measurements and counting the results\n",
        "measurement_counts = psi_state.sample_counts(shots=1000)\n",
        "\n",
        "# Display the measurement results\n",
        "print(\"\\nMeasurement counts:\", measurement_counts)\n",
        "\n",
        "# Visualizing the measurement results using a histogram\n",
        "plot_histogram(measurement_counts)\n"
      ],
      "metadata": {
        "id": "PUl_ApxVgi3N",
        "colab": {
          "base_uri": "https://localhost:8080/",
          "height": 464
        },
        "outputId": "45de1e29-53f5-4ebd-dfaf-fdb80a178e26"
      },
      "execution_count": null,
      "outputs": [
        {
          "output_type": "stream",
          "name": "stdout",
          "text": [
            "\n",
            "Measurement counts: {'0': 493, '1': 507}\n"
          ]
        },
        {
          "output_type": "execute_result",
          "data": {
            "text/plain": [
              "<Figure size 640x480 with 1 Axes>"
            ],
            "image/png": "[encoded data removed]"
          },
          "metadata": {},
          "execution_count": 9
        }
      ]
    },
    {
      "cell_type": "markdown",
      "source": [
        "REPRESENTATION OF QUANTUM STATE AND STANDARD BASIS MEASUREMENT\n",
        "\n",
        "Represent qubit state vector in matrix notation :\n",
        "\n",
        "To represent a qubit state vector in matrix notation, you can use the Dirac notation, which is common in quantum mechanics. A qubit can be expressed as a linear combination of the basis states |0⟩ and |1⟩. Here's how you can represent this in matrix notation:\n",
        "Qubit State Vector Representation\n",
        "Basis States:\n",
        "The computational basis states are represented as:\n",
        "\n",
        "General Qubit State:  \n",
        " A general qubit state ∣ψ⟩ can be expressed as a linear combination of the basis states:\n",
        "\n",
        "In matrix notation, this is represented as:\n",
        "\n",
        "Where α and β are complex coefficients that satisfy the normalization condition:\n",
        "\n",
        "\n",
        "the example of a superposition state where both basis states are equally likely, such as:\n",
        "\n",
        "The qubit state can be represented as:\n",
        "\n",
        "\n",
        "Define and display state vectors and check their validity\n",
        "Simulate measurements and visualise the result\n",
        "\n",
        "import numpy as np\n",
        "import matplotlib.pyplot as plt\n",
        "from qiskit.quantum_info import Statevector\n",
        "from qiskit.visualization import plot_histogram\n",
        "\n",
        "# Function to define a qubit state vector\n",
        "def qubit_state(alpha, beta):\n",
        "    # Ensure that the state is valid\n",
        "    norm = np.abs(alpha)**2 + np.abs(beta)**2\n",
        "    if not np.isclose(norm, 1):\n",
        "        raise ValueError(\"Invalid qubit state. |alpha|^2 + |beta|^2 must equal 1.\")\n",
        "    return np.array([alpha, beta])\n",
        "This function enforces the physical constraints of quantum states, ensuring that any qubit state you define is correctly normalized.\n",
        "# Function to simulate measurements\n",
        "def measure_qubit(state, num_measurements=1000):\n",
        "    probabilities = np.abs(state)**2\n",
        "    outcomes = np.random.choice([0, 1], size=num_measurements, p=probabilities)\n",
        "    return outcomes\n",
        "This function effectively models the probabilistic nature of quantum measurements, where the outcomes are not deterministic but rather follow the probability distribution defined by the qubit's state.\n",
        "# Function to visualize measurement results\n",
        "def plot_measurement_results(outcomes):\n",
        "    unique, counts = np.unique(outcomes, return_counts=True)\n",
        "    plt.bar(unique, counts)\n",
        "    plt.xticks([0, 1], ['|0⟩', '|1⟩'])\n",
        "    plt.xlabel('Measurement Outcome')\n",
        "    plt.ylabel('Frequency')\n",
        "    plt.title('Qubit Measurement Results')\n",
        "    plt.show()\n",
        "Visualization is key in quantum mechanics to understand the results of measurements. This function allows you to quickly assess the distribution of outcomes, demonstrating how often each state was measured.\n",
        "# Step 1: Define a valid qubit state (example: equal superposition)\n",
        "alpha = 1/np.sqrt(2)\n",
        "beta = 1/np.sqrt(2)\n",
        "\n",
        "\n",
        "# Represent the qubit state\n",
        "qubit = qubit_state(alpha, beta)\n",
        "print(\"Qubit state vector (matrix notation):\")\n",
        "print(qubit)\n",
        "\n",
        "\n",
        "Qubit state vector (matrix notation):\n",
        "[0.70710678 0.70710678]\n",
        "The qubit_state function is called to generate the corresponding qubit state vector.\n",
        "This specific choice of amplitudes illustrates the principle of superposition in quantum mechanics, where a qubit can exist in a combination of both states simultaneously.\n",
        "\n",
        "# Step 2: Simulate 1000 measurements\n",
        "num_measurements = 1000\n",
        "outcomes = measure_qubit(qubit, num_measurements)\n",
        "\n",
        "\n",
        "# Step 3: Visualize the results of the measurements\n",
        "plot_measurement_results(outcomes)\n",
        "\n",
        "\n",
        "# Step 4: Using Qiskit for a more formal representation\n",
        "# Define state vectors |0⟩ and |1⟩ in matrix notation\n",
        "ket0 = np.array([1, 0])  # |0⟩\n",
        "ket1 = np.array([0, 1])  # |1⟩\n",
        "\n",
        "\n",
        "# Display the state vectors\n",
        "print(\"State vector |0⟩ (ket0):\", ket0)\n",
        "print(\"State vector |1⟩ (ket1):\", ket1)\n",
        "\n",
        "\n",
        "# Define a superposition state |ψ⟩ = (|0⟩ + |1⟩) / sqrt(2)\n",
        "superposition_state = alpha * ket0 + beta * ket1  # Superposition state\n",
        "psi_state = Statevector(superposition_state)  # Create a Statevector object\n",
        "\n",
        "\n",
        "It constructs a superposition state ∣ψ⟩ by combining these basis states with the defined amplitudes and creates a Statevector object using Qiskit.\n",
        "Using Qiskit's Statevector enhances the capability to manipulate and analyze quantum states programmatically. It also allows for the use of built-in methods to verify the validity and perform measurements on quantum states.\n",
        "\n",
        "\n",
        "# Display the superposition state |ψ⟩\n",
        "print(\"\\nSuperposition state vector |ψ⟩:\", psi_state)\n",
        "State vector |0⟩ (ket0): [1 0]\n",
        "State vector |1⟩ (ket1): [0 1]\n",
        "Superposition state vector |ψ⟩: Statevector([0.70710678+0.j, 0.70710678+0.j],\n",
        "            dims=(2,))\n",
        "# Step 5: Check if the state is valid (the norm of the vector should be 1)\n",
        "is_valid = psi_state.is_valid()\n",
        "print(\"Is the state vector valid?\", is_valid)\n",
        "\n",
        "\n",
        "Is the state vector valid? True\n",
        "\n",
        "\n",
        "The code checks if the state vector is valid and simulates a measurement on the state using Qiskit's built-in methods.\n",
        "This demonstrates good practice in quantum computing by ensuring that states are valid before performing operations, reinforcing the mathematical principles behind quantum mechanics.\n",
        "\n",
        "\n",
        "# Step 6: Simulating a measurement on |ψ⟩\n",
        "measurement_outcome = psi_state.measure()\n",
        "print(\"\\nMeasurement outcome:\", measurement_outcome)\n",
        "\n",
        "\n",
        "\n",
        "Measurement outcome: ('1', Statevector([0.+0.j, 1.+0.j],\n",
        "            dims=(2,)))\n",
        "# Step 7: Simulating 1000 measurements and counting the results\n",
        "measurement_counts = psi_state.sample_counts(shots=1000)\n",
        "\n",
        "\n",
        "# Display the measurement results\n",
        "print(\"\\nMeasurement counts:\", measurement_counts)\n",
        "\n",
        "\n",
        "\n",
        "Measurement counts: {'0': 501, '1': 499}\n",
        "This section simulates multiple measurements (1000 shots) and counts the results using Qiskit's sample_counts method.\n",
        "\n",
        "# Step 8: Visualizing the measurement results using a histogram\n",
        "plot_histogram(measurement_counts)\n",
        "\n",
        "The results are visualized using a histogram.\n",
        "This approach provides a more comprehensive view of measurement outcomes, aligning with the probabilistic nature of quantum mechanics and reinforcing the concept of statistical distributions in measurement outcomes.\n",
        "\n",
        "  Qubit State:\n",
        "The qubit state is defined as a combination of two components, ∣0⟩ and ∣1⟩,where the sum of the squared magnitudes of α and β must equal 1. This normalization condition ensures that the state is valid and represents a true quantum state.\n",
        "\n",
        "\n",
        "  Measurement Simulation:\n",
        "During measurement, the qubit collapses into one of the two basis states (∣0⟩ or ∣1⟩) based on the respective probabilities. In the example provided, since α=β=1/√2​, both states have an equal probability of 0.5 for measurement outcomes. This illustrates the principle of superposition in quantum mechanics.\n",
        "  Visualization:\n",
        "The measurement results are visualized as a bar graph, which shows how often the qubit collapses to either ∣0⟩ or ∣1⟩ across multiple measurements. This visual representation aids in understanding the statistical nature of quantum measurements and how probabilities manifest in experimental results.\n",
        "\n",
        "\n",
        "\n",
        "\n",
        "\n",
        "\n",
        "\n",
        "\n"
      ],
      "metadata": {
        "id": "vehWQKknVZO0"
      }
    },
    {
      "cell_type": "code",
      "source": [],
      "metadata": {
        "id": "-fGUJYAgVeop"
      },
      "execution_count": null,
      "outputs": []
    }
  ]
}