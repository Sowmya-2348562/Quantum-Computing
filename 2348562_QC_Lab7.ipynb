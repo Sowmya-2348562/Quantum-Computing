{
  "nbformat": 4,
  "nbformat_minor": 0,
  "metadata": {
    "colab": {
      "provenance": [],
      "authorship_tag": "ABX9TyM5/1IHYWjlrA8gqmElxVll",
      "include_colab_link": true
    },
    "kernelspec": {
      "name": "python3",
      "display_name": "Python 3"
    },
    "language_info": {
      "name": "python"
    }
  },
  "cells": [
    {
      "cell_type": "markdown",
      "metadata": {
        "id": "view-in-github",
        "colab_type": "text"
      },
      "source": [
        "<a href=\"https://colab.research.google.com/github/Sowmya-2348562/Quantum-Computing/blob/main/2348562_QC_Lab7.ipynb\" target=\"_parent\"><img src=\"https://colab.research.google.com/assets/colab-badge.svg\" alt=\"Open In Colab\"/></a>"
      ]
    },
    {
      "cell_type": "code",
      "source": [
        "from qiskit_aer import AerSimulator\n",
        "\n",
        "def deutsch_algorithm(function: QuantumCircuit):\n",
        "    \"\"\"\n",
        "    Determine if a Deutsch function is constant or balanced.\n",
        "    \"\"\"\n",
        "    qc = compile_circuit(function)\n",
        "\n",
        "    result = AerSimulator().run(qc, shots=1, memory=True).result()\n",
        "    measurements = result.get_memory()\n",
        "    if measurements[0] == \"0\":\n",
        "        return \"constant\"\n",
        "    return \"balanced\""
      ],
      "metadata": {
        "id": "77uNZS1zKM7l"
      },
      "execution_count": null,
      "outputs": []
    },
    {
      "cell_type": "code",
      "source": [
        "f = deutsch_function(3)\n",
        "display(f.draw())\n",
        "display(deutsch_algorithm(f))"
      ],
      "metadata": {
        "id": "p_qSzK_VMkqJ",
        "outputId": "b1e71af5-8970-4e15-fd8b-cdd7959ed3e0",
        "colab": {
          "base_uri": "https://localhost:8080/",
          "height": 113
        }
      },
      "execution_count": null,
      "outputs": [
        {
          "output_type": "display_data",
          "data": {
            "text/plain": [
              "               \n",
              "q_0: ──■───────\n",
              "     ┌─┴─┐┌───┐\n",
              "q_1: ┤ X ├┤ X ├\n",
              "     └───┘└───┘"
            ],
            "text/html": [
              "<pre style=\"word-wrap: normal;white-space: pre;background: #fff0;line-height: 1.1;font-family: &quot;Courier New&quot;,Courier,monospace\">               \n",
              "q_0: ──■───────\n",
              "     ┌─┴─┐┌───┐\n",
              "q_1: ┤ X ├┤ X ├\n",
              "     └───┘└───┘</pre>"
            ]
          },
          "metadata": {}
        },
        {
          "output_type": "display_data",
          "data": {
            "text/plain": [
              "'balanced'"
            ],
            "application/vnd.google.colaboratory.intrinsic+json": {
              "type": "string"
            }
          },
          "metadata": {}
        }
      ]
    },
    {
      "cell_type": "markdown",
      "source": [
        "Purpose: The program implements Deutsch's algorithm, a quantum algorithm used to determine whether a given function is constant or balanced using a quantum circuit.\n",
        "\n",
        "Quantum Circuit for the Deutsch Function:\n",
        "\n",
        "The deutsch_function(case) generates a quantum circuit based on the input case, applying specific quantum gates (CX and X) to create a Deutsch function. This is done for four different cases (1–4), each producing a different quantum circuit behavior.\n",
        "Circuit Compilation:\n",
        "\n",
        "The compile_circuit(function) function constructs the full quantum circuit for running Deutsch’s algorithm. It prepares the qubits with Hadamard and X gates, applies the Deutsch function, and then performs a final Hadamard transform and measurement on the qubits.\n",
        "Simulation and Measurement:\n",
        "\n",
        "The deutsch_algorithm(function) function simulates the quantum circuit using Qiskit's AerSimulator. It runs the quantum circuit, performs one shot of measurement, and checks the result. If the result is \"0\", the function is constant; otherwise, it is balanced.\n",
        "Outcome:\n",
        "\n",
        "For case 3, the function is expected to be balanced because of the specific combination of gates used (CX and X gates). The algorithm efficiently determines this outcome with a single execution, showcasing the power of quantum computing for specific problems.\n",
        "Efficiency:\n",
        "\n",
        "The algorithm is designed to provide an answer with just one run of the quantum circuit, contrasting with classical approaches that typically require multiple evaluations to determine whether a function is constant or balanced.\n",
        "Visualization:\n",
        "\n",
        "The program provides visual representations of both the Deutsch function circuit and the compiled quantum circuit for Deutsch's algorithm, helping to understand the structure of the quantum operations."
      ],
      "metadata": {
        "id": "KRwnZkjIOzPW"
      }
    }
  ]
}