{
  "nbformat": 4,
  "nbformat_minor": 0,
  "metadata": {
    "colab": {
      "provenance": [],
      "authorship_tag": "ABX9TyPabO7w45M3rjkzjMeTUKBW",
      "include_colab_link": true
    },
    "kernelspec": {
      "name": "python3",
      "display_name": "Python 3"
    },
    "language_info": {
      "name": "python"
    }
  },
  "cells": [
    {
      "cell_type": "markdown",
      "metadata": {
        "id": "view-in-github",
        "colab_type": "text"
      },
      "source": [
        "<a href=\"https://colab.research.google.com/github/Sowmya-2348562/Quantum-Computing/blob/main/2348562_QC_Lab5.ipynb\" target=\"_parent\"><img src=\"https://colab.research.google.com/assets/colab-badge.svg\" alt=\"Open In Colab\"/></a>"
      ]
    },
    {
      "cell_type": "markdown",
      "source": [
        "# Implementation of Teleportation protocol"
      ],
      "metadata": {
        "id": "0Wzn0CW5Ll9k"
      }
    },
    {
      "cell_type": "code",
      "source": [
        "pip install qiskit"
      ],
      "metadata": {
        "colab": {
          "base_uri": "https://localhost:8080/"
        },
        "id": "wRNrBdSPJZkQ",
        "outputId": "6c938bd7-067c-4c73-c37b-f18f4d33b74b"
      },
      "execution_count": 3,
      "outputs": [
        {
          "output_type": "stream",
          "name": "stdout",
          "text": [
            "Collecting qiskit\n",
            "  Downloading qiskit-1.2.4-cp38-abi3-manylinux_2_17_x86_64.manylinux2014_x86_64.whl.metadata (12 kB)\n",
            "Collecting rustworkx>=0.15.0 (from qiskit)\n",
            "  Downloading rustworkx-0.15.1-cp38-abi3-manylinux_2_17_x86_64.manylinux2014_x86_64.whl.metadata (9.9 kB)\n",
            "Requirement already satisfied: numpy<3,>=1.17 in /usr/local/lib/python3.10/dist-packages (from qiskit) (1.26.4)\n",
            "Requirement already satisfied: scipy>=1.5 in /usr/local/lib/python3.10/dist-packages (from qiskit) (1.13.1)\n",
            "Requirement already satisfied: sympy>=1.3 in /usr/local/lib/python3.10/dist-packages (from qiskit) (1.13.1)\n",
            "Collecting dill>=0.3 (from qiskit)\n",
            "  Downloading dill-0.3.9-py3-none-any.whl.metadata (10 kB)\n",
            "Requirement already satisfied: python-dateutil>=2.8.0 in /usr/local/lib/python3.10/dist-packages (from qiskit) (2.8.2)\n",
            "Collecting stevedore>=3.0.0 (from qiskit)\n",
            "  Downloading stevedore-5.3.0-py3-none-any.whl.metadata (2.3 kB)\n",
            "Requirement already satisfied: typing-extensions in /usr/local/lib/python3.10/dist-packages (from qiskit) (4.12.2)\n",
            "Collecting symengine<0.14,>=0.11 (from qiskit)\n",
            "  Downloading symengine-0.13.0-cp310-cp310-manylinux_2_17_x86_64.manylinux2014_x86_64.whl.metadata (1.2 kB)\n",
            "Requirement already satisfied: six>=1.5 in /usr/local/lib/python3.10/dist-packages (from python-dateutil>=2.8.0->qiskit) (1.16.0)\n",
            "Collecting pbr>=2.0.0 (from stevedore>=3.0.0->qiskit)\n",
            "  Downloading pbr-6.1.0-py2.py3-none-any.whl.metadata (3.4 kB)\n",
            "Requirement already satisfied: mpmath<1.4,>=1.1.0 in /usr/local/lib/python3.10/dist-packages (from sympy>=1.3->qiskit) (1.3.0)\n",
            "Downloading qiskit-1.2.4-cp38-abi3-manylinux_2_17_x86_64.manylinux2014_x86_64.whl (4.8 MB)\n",
            "\u001b[2K   \u001b[90m━━━━━━━━━━━━━━━━━━━━━━━━━━━━━━━━━━━━━━━━\u001b[0m \u001b[32m4.8/4.8 MB\u001b[0m \u001b[31m32.1 MB/s\u001b[0m eta \u001b[36m0:00:00\u001b[0m\n",
            "\u001b[?25hDownloading dill-0.3.9-py3-none-any.whl (119 kB)\n",
            "\u001b[2K   \u001b[90m━━━━━━━━━━━━━━━━━━━━━━━━━━━━━━━━━━━━━━━━\u001b[0m \u001b[32m119.4/119.4 kB\u001b[0m \u001b[31m8.6 MB/s\u001b[0m eta \u001b[36m0:00:00\u001b[0m\n",
            "\u001b[?25hDownloading rustworkx-0.15.1-cp38-abi3-manylinux_2_17_x86_64.manylinux2014_x86_64.whl (2.0 MB)\n",
            "\u001b[2K   \u001b[90m━━━━━━━━━━━━━━━━━━━━━━━━━━━━━━━━━━━━━━━━\u001b[0m \u001b[32m2.0/2.0 MB\u001b[0m \u001b[31m40.3 MB/s\u001b[0m eta \u001b[36m0:00:00\u001b[0m\n",
            "\u001b[?25hDownloading stevedore-5.3.0-py3-none-any.whl (49 kB)\n",
            "\u001b[2K   \u001b[90m━━━━━━━━━━━━━━━━━━━━━━━━━━━━━━━━━━━━━━━━\u001b[0m \u001b[32m49.7/49.7 kB\u001b[0m \u001b[31m3.2 MB/s\u001b[0m eta \u001b[36m0:00:00\u001b[0m\n",
            "\u001b[?25hDownloading symengine-0.13.0-cp310-cp310-manylinux_2_17_x86_64.manylinux2014_x86_64.whl (49.7 MB)\n",
            "\u001b[2K   \u001b[90m━━━━━━━━━━━━━━━━━━━━━━━━━━━━━━━━━━━━━━━━\u001b[0m \u001b[32m49.7/49.7 MB\u001b[0m \u001b[31m13.9 MB/s\u001b[0m eta \u001b[36m0:00:00\u001b[0m\n",
            "\u001b[?25hDownloading pbr-6.1.0-py2.py3-none-any.whl (108 kB)\n",
            "\u001b[2K   \u001b[90m━━━━━━━━━━━━━━━━━━━━━━━━━━━━━━━━━━━━━━━━\u001b[0m \u001b[32m108.5/108.5 kB\u001b[0m \u001b[31m9.9 MB/s\u001b[0m eta \u001b[36m0:00:00\u001b[0m\n",
            "\u001b[?25hInstalling collected packages: symengine, rustworkx, pbr, dill, stevedore, qiskit\n",
            "Successfully installed dill-0.3.9 pbr-6.1.0 qiskit-1.2.4 rustworkx-0.15.1 stevedore-5.3.0 symengine-0.13.0\n"
          ]
        }
      ]
    },
    {
      "cell_type": "code",
      "source": [
        "pip install qiskit-aer"
      ],
      "metadata": {
        "colab": {
          "base_uri": "https://localhost:8080/"
        },
        "id": "vUqBkaFVJlx-",
        "outputId": "eb4a9227-5992-458f-e7db-34e8f3850c3f"
      },
      "execution_count": 5,
      "outputs": [
        {
          "output_type": "stream",
          "name": "stdout",
          "text": [
            "Collecting qiskit-aer\n",
            "  Downloading qiskit_aer-0.15.1-cp310-cp310-manylinux_2_17_x86_64.manylinux2014_x86_64.whl.metadata (8.0 kB)\n",
            "Requirement already satisfied: qiskit>=1.1.0 in /usr/local/lib/python3.10/dist-packages (from qiskit-aer) (1.2.4)\n",
            "Requirement already satisfied: numpy>=1.16.3 in /usr/local/lib/python3.10/dist-packages (from qiskit-aer) (1.26.4)\n",
            "Requirement already satisfied: scipy>=1.0 in /usr/local/lib/python3.10/dist-packages (from qiskit-aer) (1.13.1)\n",
            "Requirement already satisfied: psutil>=5 in /usr/local/lib/python3.10/dist-packages (from qiskit-aer) (5.9.5)\n",
            "Requirement already satisfied: rustworkx>=0.15.0 in /usr/local/lib/python3.10/dist-packages (from qiskit>=1.1.0->qiskit-aer) (0.15.1)\n",
            "Requirement already satisfied: sympy>=1.3 in /usr/local/lib/python3.10/dist-packages (from qiskit>=1.1.0->qiskit-aer) (1.13.1)\n",
            "Requirement already satisfied: dill>=0.3 in /usr/local/lib/python3.10/dist-packages (from qiskit>=1.1.0->qiskit-aer) (0.3.9)\n",
            "Requirement already satisfied: python-dateutil>=2.8.0 in /usr/local/lib/python3.10/dist-packages (from qiskit>=1.1.0->qiskit-aer) (2.8.2)\n",
            "Requirement already satisfied: stevedore>=3.0.0 in /usr/local/lib/python3.10/dist-packages (from qiskit>=1.1.0->qiskit-aer) (5.3.0)\n",
            "Requirement already satisfied: typing-extensions in /usr/local/lib/python3.10/dist-packages (from qiskit>=1.1.0->qiskit-aer) (4.12.2)\n",
            "Requirement already satisfied: symengine<0.14,>=0.11 in /usr/local/lib/python3.10/dist-packages (from qiskit>=1.1.0->qiskit-aer) (0.13.0)\n",
            "Requirement already satisfied: six>=1.5 in /usr/local/lib/python3.10/dist-packages (from python-dateutil>=2.8.0->qiskit>=1.1.0->qiskit-aer) (1.16.0)\n",
            "Requirement already satisfied: pbr>=2.0.0 in /usr/local/lib/python3.10/dist-packages (from stevedore>=3.0.0->qiskit>=1.1.0->qiskit-aer) (6.1.0)\n",
            "Requirement already satisfied: mpmath<1.4,>=1.1.0 in /usr/local/lib/python3.10/dist-packages (from sympy>=1.3->qiskit>=1.1.0->qiskit-aer) (1.3.0)\n",
            "Downloading qiskit_aer-0.15.1-cp310-cp310-manylinux_2_17_x86_64.manylinux2014_x86_64.whl (12.3 MB)\n",
            "\u001b[2K   \u001b[90m━━━━━━━━━━━━━━━━━━━━━━━━━━━━━━━━━━━━━━━━\u001b[0m \u001b[32m12.3/12.3 MB\u001b[0m \u001b[31m85.5 MB/s\u001b[0m eta \u001b[36m0:00:00\u001b[0m\n",
            "\u001b[?25hInstalling collected packages: qiskit-aer\n",
            "Successfully installed qiskit-aer-0.15.1\n"
          ]
        }
      ]
    },
    {
      "cell_type": "code",
      "execution_count": 6,
      "metadata": {
        "id": "j634C40zJNPE"
      },
      "outputs": [],
      "source": [
        "# Required imports\n",
        "\n",
        "from qiskit import QuantumCircuit, QuantumRegister, ClassicalRegister\n",
        "from qiskit_aer import AerSimulator\n",
        "from qiskit.visualization import plot_histogram\n",
        "from qiskit.result import marginal_distribution\n",
        "from qiskit.circuit.library import UGate\n",
        "from numpy import pi, random"
      ]
    },
    {
      "cell_type": "code",
      "source": [
        "qubit = QuantumRegister(1, \"Q\")\n",
        "ebit0 = QuantumRegister(1, \"A\")\n",
        "ebit1 = QuantumRegister(1, \"B\")\n",
        "a = ClassicalRegister(1, \"a\")\n",
        "b = ClassicalRegister(1, \"b\")\n",
        "\n",
        "protocol = QuantumCircuit(qubit, ebit0, ebit1, a, b)\n",
        "\n",
        "# Prepare ebit used for teleportation\n",
        "protocol.h(ebit0)\n",
        "protocol.cx(ebit0, ebit1)\n",
        "protocol.barrier()\n",
        "\n",
        "# Alice's operations\n",
        "protocol.cx(qubit, ebit0)\n",
        "protocol.h(qubit)\n",
        "protocol.barrier()\n",
        "\n",
        "# Alice measures and sends classical bits to Bob\n",
        "protocol.measure(ebit0, a)\n",
        "protocol.measure(qubit, b)\n",
        "protocol.barrier()\n",
        "\n",
        "# Bob uses the classical bits to conditionally apply gates\n",
        "with protocol.if_test((a, 1)):\n",
        "    protocol.x(ebit1)\n",
        "with protocol.if_test((b, 1)):\n",
        "    protocol.z(ebit1)\n",
        "\n",
        "display(protocol.draw())"
      ],
      "metadata": {
        "colab": {
          "base_uri": "https://localhost:8080/",
          "height": 371
        },
        "id": "J7DD_YFpJTL2",
        "outputId": "81919cd0-3396-4811-c5a4-6b13643c5ce0"
      },
      "execution_count": 7,
      "outputs": [
        {
          "output_type": "display_data",
          "data": {
            "text/plain": [
              "                ░      ┌───┐ ░    ┌─┐ ░                                     »\n",
              "  Q: ───────────░───■──┤ H ├─░────┤M├─░─────────────────────────────────────»\n",
              "     ┌───┐      ░ ┌─┴─┐└───┘ ░ ┌─┐└╥┘ ░                                     »\n",
              "  A: ┤ H ├──■───░─┤ X ├──────░─┤M├─╫──░─────────────────────────────────────»\n",
              "     └───┘┌─┴─┐ ░ └───┘      ░ └╥┘ ║  ░ ┌────── ┌───┐ ───────┐ ┌────── ┌───┐»\n",
              "  B: ─────┤ X ├─░────────────░──╫──╫──░─┤ If-0  ┤ X ├  End-0 ├─┤ If-0  ┤ Z ├»\n",
              "          └───┘ ░            ░  ║  ║  ░ └──╥─── └───┘ ───────┘ └──╥─── └───┘»\n",
              "                                ║  ║    ┌──╨──┐                   ║         »\n",
              "a: 1/═══════════════════════════╩══╬════╡ 0x1 ╞═══════════════════╬═════════»\n",
              "                                0  ║    └─────┘                ┌──╨──┐      »\n",
              "b: 1/══════════════════════════════╩═══════════════════════════╡ 0x1 ╞══════»\n",
              "                                   0                           └─────┘      »\n",
              "«               \n",
              "«  Q: ──────────\n",
              "«               \n",
              "«  A: ──────────\n",
              "«      ───────┐ \n",
              "«  B:   End-0 ├─\n",
              "«      ───────┘ \n",
              "«a: 1/══════════\n",
              "«               \n",
              "«b: 1/══════════\n",
              "«               "
            ],
            "text/html": [
              "<pre style=\"word-wrap: normal;white-space: pre;background: #fff0;line-height: 1.1;font-family: &quot;Courier New&quot;,Courier,monospace\">                ░      ┌───┐ ░    ┌─┐ ░                                     »\n",
              "  Q: ───────────░───■──┤ H ├─░────┤M├─░─────────────────────────────────────»\n",
              "     ┌───┐      ░ ┌─┴─┐└───┘ ░ ┌─┐└╥┘ ░                                     »\n",
              "  A: ┤ H ├──■───░─┤ X ├──────░─┤M├─╫──░─────────────────────────────────────»\n",
              "     └───┘┌─┴─┐ ░ └───┘      ░ └╥┘ ║  ░ ┌────── ┌───┐ ───────┐ ┌────── ┌───┐»\n",
              "  B: ─────┤ X ├─░────────────░──╫──╫──░─┤ If-0  ┤ X ├  End-0 ├─┤ If-0  ┤ Z ├»\n",
              "          └───┘ ░            ░  ║  ║  ░ └──╥─── └───┘ ───────┘ └──╥─── └───┘»\n",
              "                                ║  ║    ┌──╨──┐                   ║         »\n",
              "a: 1/═══════════════════════════╩══╬════╡ 0x1 ╞═══════════════════╬═════════»\n",
              "                                0  ║    └─────┘                ┌──╨──┐      »\n",
              "b: 1/══════════════════════════════╩═══════════════════════════╡ 0x1 ╞══════»\n",
              "                                   0                           └─────┘      »\n",
              "«               \n",
              "«  Q: ──────────\n",
              "«               \n",
              "«  A: ──────────\n",
              "«      ───────┐ \n",
              "«  B:   End-0 ├─\n",
              "«      ───────┘ \n",
              "«a: 1/══════════\n",
              "«               \n",
              "«b: 1/══════════\n",
              "«               </pre>"
            ]
          },
          "metadata": {}
        }
      ]
    },
    {
      "cell_type": "code",
      "source": [
        "random_gate = UGate(\n",
        "    theta=random.random() * 2 * pi,\n",
        "    phi=random.random() * 2 * pi,\n",
        "    lam=random.random() * 2 * pi,\n",
        ")\n",
        "\n",
        "display(random_gate.to_matrix())"
      ],
      "metadata": {
        "colab": {
          "base_uri": "https://localhost:8080/",
          "height": 52
        },
        "id": "d9oVZ21WJr_F",
        "outputId": "f5e402d3-54bf-45e5-d125-bd4ef1effc1f"
      },
      "execution_count": 8,
      "outputs": [
        {
          "output_type": "display_data",
          "data": {
            "text/plain": [
              "array([[-0.33436362+0.j        , -0.08810718+0.93831663j],\n",
              "       [-0.80567244+0.48897126j, -0.14599663-0.30080561j]])"
            ]
          },
          "metadata": {}
        }
      ]
    },
    {
      "cell_type": "code",
      "source": [
        "# Create a new circuit including the same bits and qubits used in the\n",
        "# teleportation protocol.\n",
        "\n",
        "test = QuantumCircuit(qubit, ebit0, ebit1, a, b)\n",
        "\n",
        "# Start with the randomly selected gate on Q\n",
        "\n",
        "test.append(random_gate, qubit)\n",
        "test.barrier()\n",
        "\n",
        "# Append the entire teleportation protocol from above.\n",
        "\n",
        "test = test.compose(protocol)\n",
        "test.barrier()\n",
        "\n",
        "# Finally, apply the inverse of the random unitary to B and measure.\n",
        "\n",
        "test.append(random_gate.inverse(), ebit1)\n",
        "\n",
        "result = ClassicalRegister(1, \"Result\")\n",
        "test.add_register(result)\n",
        "test.measure(ebit1, result)\n",
        "\n",
        "display(test.draw())"
      ],
      "metadata": {
        "colab": {
          "base_uri": "https://localhost:8080/",
          "height": 633
        },
        "id": "vxq-97IlJxXQ",
        "outputId": "a43533b4-73f9-4567-e752-a6fdfd94fc97"
      },
      "execution_count": 9,
      "outputs": [
        {
          "output_type": "display_data",
          "data": {
            "text/plain": [
              "          ┌────────────────────────┐ ░            ░      ┌───┐ ░    ┌─┐ ░ »\n",
              "       Q: ┤ U(3.8235,2.5961,4.806) ├─░────────────░───■──┤ H ├─░────┤M├─░─»\n",
              "          └────────────────────────┘ ░ ┌───┐      ░ ┌─┴─┐└───┘ ░ ┌─┐└╥┘ ░ »\n",
              "       A: ───────────────────────────░─┤ H ├──■───░─┤ X ├──────░─┤M├─╫──░─»\n",
              "                                     ░ └───┘┌─┴─┐ ░ └───┘      ░ └╥┘ ║  ░ »\n",
              "       B: ───────────────────────────░──────┤ X ├─░────────────░──╫──╫──░─»\n",
              "                                     ░      └───┘ ░            ░  ║  ║  ░ »\n",
              "     a: 1/════════════════════════════════════════════════════════╩══╬════»\n",
              "                                                                  0  ║    »\n",
              "     b: 1/═══════════════════════════════════════════════════════════╩════»\n",
              "                                                                     0    »\n",
              "Result: 1/════════════════════════════════════════════════════════════════»\n",
              "                                                                          »\n",
              "«                                                         ░ »\n",
              "«       Q: ───────────────────────────────────────────────░─»\n",
              "«                                                         ░ »\n",
              "«       A: ───────────────────────────────────────────────░─»\n",
              "«          ┌────── ┌───┐ ───────┐ ┌────── ┌───┐ ───────┐  ░ »\n",
              "«       B: ┤ If-0  ┤ X ├  End-0 ├─┤ If-0  ┤ Z ├  End-0 ├──░─»\n",
              "«          └──╥─── └───┘ ───────┘ └──╥─── └───┘ ───────┘  ░ »\n",
              "«          ┌──╨──┐                   ║                      »\n",
              "«     a: 1/╡ 0x1 ╞═══════════════════╬══════════════════════»\n",
              "«          └─────┘                ┌──╨──┐                   »\n",
              "«     b: 1/═══════════════════════╡ 0x1 ╞═══════════════════»\n",
              "«                                 └─────┘                   »\n",
              "«Result: 1/═════════════════════════════════════════════════»\n",
              "«                                                           »\n",
              "«                                          \n",
              "«       Q: ────────────────────────────────\n",
              "«                                          \n",
              "«       A: ────────────────────────────────\n",
              "«          ┌───────────────────────────┐┌─┐\n",
              "«       B: ┤ U(-3.8235,-4.806,-2.5961) ├┤M├\n",
              "«          └───────────────────────────┘└╥┘\n",
              "«     a: 1/══════════════════════════════╬═\n",
              "«                                        ║ \n",
              "«     b: 1/══════════════════════════════╬═\n",
              "«                                        ║ \n",
              "«Result: 1/══════════════════════════════╩═\n",
              "«                                        0 "
            ],
            "text/html": [
              "<pre style=\"word-wrap: normal;white-space: pre;background: #fff0;line-height: 1.1;font-family: &quot;Courier New&quot;,Courier,monospace\">          ┌────────────────────────┐ ░            ░      ┌───┐ ░    ┌─┐ ░ »\n",
              "       Q: ┤ U(3.8235,2.5961,4.806) ├─░────────────░───■──┤ H ├─░────┤M├─░─»\n",
              "          └────────────────────────┘ ░ ┌───┐      ░ ┌─┴─┐└───┘ ░ ┌─┐└╥┘ ░ »\n",
              "       A: ───────────────────────────░─┤ H ├──■───░─┤ X ├──────░─┤M├─╫──░─»\n",
              "                                     ░ └───┘┌─┴─┐ ░ └───┘      ░ └╥┘ ║  ░ »\n",
              "       B: ───────────────────────────░──────┤ X ├─░────────────░──╫──╫──░─»\n",
              "                                     ░      └───┘ ░            ░  ║  ║  ░ »\n",
              "     a: 1/════════════════════════════════════════════════════════╩══╬════»\n",
              "                                                                  0  ║    »\n",
              "     b: 1/═══════════════════════════════════════════════════════════╩════»\n",
              "                                                                     0    »\n",
              "Result: 1/════════════════════════════════════════════════════════════════»\n",
              "                                                                          »\n",
              "«                                                         ░ »\n",
              "«       Q: ───────────────────────────────────────────────░─»\n",
              "«                                                         ░ »\n",
              "«       A: ───────────────────────────────────────────────░─»\n",
              "«          ┌────── ┌───┐ ───────┐ ┌────── ┌───┐ ───────┐  ░ »\n",
              "«       B: ┤ If-0  ┤ X ├  End-0 ├─┤ If-0  ┤ Z ├  End-0 ├──░─»\n",
              "«          └──╥─── └───┘ ───────┘ └──╥─── └───┘ ───────┘  ░ »\n",
              "«          ┌──╨──┐                   ║                      »\n",
              "«     a: 1/╡ 0x1 ╞═══════════════════╬══════════════════════»\n",
              "«          └─────┘                ┌──╨──┐                   »\n",
              "«     b: 1/═══════════════════════╡ 0x1 ╞═══════════════════»\n",
              "«                                 └─────┘                   »\n",
              "«Result: 1/═════════════════════════════════════════════════»\n",
              "«                                                           »\n",
              "«                                          \n",
              "«       Q: ────────────────────────────────\n",
              "«                                          \n",
              "«       A: ────────────────────────────────\n",
              "«          ┌───────────────────────────┐┌─┐\n",
              "«       B: ┤ U(-3.8235,-4.806,-2.5961) ├┤M├\n",
              "«          └───────────────────────────┘└╥┘\n",
              "«     a: 1/══════════════════════════════╬═\n",
              "«                                        ║ \n",
              "«     b: 1/══════════════════════════════╬═\n",
              "«                                        ║ \n",
              "«Result: 1/══════════════════════════════╩═\n",
              "«                                        0 </pre>"
            ]
          },
          "metadata": {}
        }
      ]
    },
    {
      "cell_type": "code",
      "source": [
        "result = AerSimulator().run(test).result()\n",
        "statistics = result.get_counts()\n",
        "display(plot_histogram(statistics))"
      ],
      "metadata": {
        "colab": {
          "base_uri": "https://localhost:8080/",
          "height": 454
        },
        "id": "uhrQf_9DJzZk",
        "outputId": "5dc75dfa-e1f0-4794-fe39-4f7742b81773"
      },
      "execution_count": 10,
      "outputs": [
        {
          "output_type": "display_data",
          "data": {
            "text/plain": [
              "<Figure size 640x480 with 1 Axes>"
            ],
            "image/png": "[encoded data removed]"
          },
          "metadata": {}
        }
      ]
    },
    {
      "cell_type": "code",
      "source": [
        "from qiskit.circuit.library import HGate, XGate\n",
        "\n",
        "# Test with different states by changing `random_gate`\n",
        "state_gates = [UGate(0, 0, 0), XGate(), HGate()]  # |0⟩, |1⟩, and |+⟩\n",
        "\n",
        "for gate in state_gates:\n",
        "    test = QuantumCircuit(qubit, ebit0, ebit1, a, b)\n",
        "    test.append(gate, qubit)\n",
        "    test.barrier()\n",
        "    test = test.compose(protocol)\n",
        "    test.barrier()\n",
        "    test.append(gate.inverse(), ebit1)\n",
        "\n",
        "    result = ClassicalRegister(1, \"Result\")\n",
        "    test.add_register(result)\n",
        "    test.measure(ebit1, result)\n",
        "\n",
        "    result = AerSimulator().run(test).result()\n",
        "    statistics = result.get_counts()\n",
        "    display(plot_histogram(statistics))\n"
      ],
      "metadata": {
        "colab": {
          "base_uri": "https://localhost:8080/",
          "height": 1000
        },
        "id": "noU9PRQELFzt",
        "outputId": "4f41d18e-df48-4f1d-c1f2-a83eb6eca913"
      },
      "execution_count": 13,
      "outputs": [
        {
          "output_type": "display_data",
          "data": {
            "text/plain": [
              "<Figure size 640x480 with 1 Axes>"
            ],
            "image/png": "[encoded data removed]"
          },
          "metadata": {}
        },
        {
          "output_type": "display_data",
          "data": {
            "text/plain": [
              "<Figure size 640x480 with 1 Axes>"
            ],
            "image/png": "[encoded data removed]"
          },
          "metadata": {}
        },
        {
          "output_type": "display_data",
          "data": {
            "text/plain": [
              "<Figure size 640x480 with 1 Axes>"
            ],
            "image/png": "[encoded data removed]"
          },
          "metadata": {}
        }
      ]
    },
    {
      "cell_type": "markdown",
      "source": [
        "After teleportation, Bob (holding qubit B) applies the inverse of the random or predefined unitary gate that was originally applied to qubit Q.\n",
        "If teleportation is successful, Bob’s qubit B should now match the original state of qubit Q before it was teleported. This is tested by measuring B.\n",
        "A measurement result of 0 in the Result register confirms that qubit B has returned to the initial state, indicating successful teleportation.\n",
        "Statistical Validation:\n",
        "\n",
        "By running the circuit multiple times (typically, you’d set a high number of shots), you can gather a measurement distribution in the histogram. For successful teleportation, you should predominantly see counts for the 0 state in the Result register.\n",
        "If the circuit repeatedly produces the 0 state after the inverse gate, it verifies that the state of Q has been faithfully transferred to B through the teleportation protocol.\n",
        "Interpreting the Histogram Output\n",
        "A histogram with most of the counts concentrated at 0 in the Result register confirms successful teleportation.\n",
        "If you observe other counts (such as 1), it may indicate issues in the teleportation setup, such as imperfect entanglement or measurement errors."
      ],
      "metadata": {
        "id": "ekXbufP1LQeI"
      }
    }
  ]
}