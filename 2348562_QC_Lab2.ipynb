{
  "nbformat": 4,
  "nbformat_minor": 0,
  "metadata": {
    "colab": {
      "provenance": [],
      "include_colab_link": true
    },
    "kernelspec": {
      "name": "python3",
      "display_name": "Python 3"
    },
    "language_info": {
      "name": "python"
    }
  },
  "cells": [
    {
      "cell_type": "markdown",
      "metadata": {
        "id": "view-in-github",
        "colab_type": "text"
      },
      "source": [
        "<a href=\"https://colab.research.google.com/github/Sowmya-2348562/Quantum-Computing/blob/main/2348562_QC_Lab2.ipynb\" target=\"_parent\"><img src=\"https://colab.research.google.com/assets/colab-badge.svg\" alt=\"Open In Colab\"/></a>"
      ]
    },
    {
      "cell_type": "code",
      "source": [
        "!pip install qiskit"
      ],
      "metadata": {
        "colab": {
          "base_uri": "https://localhost:8080/"
        },
        "id": "XrkBgtupg3i5",
        "outputId": "f9dc5a4f-4ea3-4dd6-9e19-0e3b333207eb"
      },
      "execution_count": null,
      "outputs": [
        {
          "output_type": "stream",
          "name": "stdout",
          "text": [
            "Collecting qiskit\n",
            "  Downloading qiskit-1.2.4-cp38-abi3-manylinux_2_17_x86_64.manylinux2014_x86_64.whl.metadata (12 kB)\n",
            "Collecting rustworkx>=0.15.0 (from qiskit)\n",
            "  Downloading rustworkx-0.15.1-cp38-abi3-manylinux_2_17_x86_64.manylinux2014_x86_64.whl.metadata (9.9 kB)\n",
            "Requirement already satisfied: numpy<3,>=1.17 in /usr/local/lib/python3.10/dist-packages (from qiskit) (1.26.4)\n",
            "Requirement already satisfied: scipy>=1.5 in /usr/local/lib/python3.10/dist-packages (from qiskit) (1.13.1)\n",
            "Requirement already satisfied: sympy>=1.3 in /usr/local/lib/python3.10/dist-packages (from qiskit) (1.13.3)\n",
            "Collecting dill>=0.3 (from qiskit)\n",
            "  Downloading dill-0.3.9-py3-none-any.whl.metadata (10 kB)\n",
            "Requirement already satisfied: python-dateutil>=2.8.0 in /usr/local/lib/python3.10/dist-packages (from qiskit) (2.8.2)\n",
            "Collecting stevedore>=3.0.0 (from qiskit)\n",
            "  Downloading stevedore-5.3.0-py3-none-any.whl.metadata (2.3 kB)\n",
            "Requirement already satisfied: typing-extensions in /usr/local/lib/python3.10/dist-packages (from qiskit) (4.12.2)\n",
            "Collecting symengine<0.14,>=0.11 (from qiskit)\n",
            "  Downloading symengine-0.13.0-cp310-cp310-manylinux_2_17_x86_64.manylinux2014_x86_64.whl.metadata (1.2 kB)\n",
            "Requirement already satisfied: six>=1.5 in /usr/local/lib/python3.10/dist-packages (from python-dateutil>=2.8.0->qiskit) (1.16.0)\n",
            "Collecting pbr>=2.0.0 (from stevedore>=3.0.0->qiskit)\n",
            "  Downloading pbr-6.1.0-py2.py3-none-any.whl.metadata (3.4 kB)\n",
            "Requirement already satisfied: mpmath<1.4,>=1.1.0 in /usr/local/lib/python3.10/dist-packages (from sympy>=1.3->qiskit) (1.3.0)\n",
            "Downloading qiskit-1.2.4-cp38-abi3-manylinux_2_17_x86_64.manylinux2014_x86_64.whl (4.8 MB)\n",
            "\u001b[2K   \u001b[90m━━━━━━━━━━━━━━━━━━━━━━━━━━━━━━━━━━━━━━━━\u001b[0m \u001b[32m4.8/4.8 MB\u001b[0m \u001b[31m33.7 MB/s\u001b[0m eta \u001b[36m0:00:00\u001b[0m\n",
            "\u001b[?25hDownloading dill-0.3.9-py3-none-any.whl (119 kB)\n",
            "\u001b[2K   \u001b[90m━━━━━━━━━━━━━━━━━━━━━━━━━━━━━━━━━━━━━━━━\u001b[0m \u001b[32m119.4/119.4 kB\u001b[0m \u001b[31m5.9 MB/s\u001b[0m eta \u001b[36m0:00:00\u001b[0m\n",
            "\u001b[?25hDownloading rustworkx-0.15.1-cp38-abi3-manylinux_2_17_x86_64.manylinux2014_x86_64.whl (2.0 MB)\n",
            "\u001b[2K   \u001b[90m━━━━━━━━━━━━━━━━━━━━━━━━━━━━━━━━━━━━━━━━\u001b[0m \u001b[32m2.0/2.0 MB\u001b[0m \u001b[31m35.4 MB/s\u001b[0m eta \u001b[36m0:00:00\u001b[0m\n",
            "\u001b[?25hDownloading stevedore-5.3.0-py3-none-any.whl (49 kB)\n",
            "\u001b[2K   \u001b[90m━━━━━━━━━━━━━━━━━━━━━━━━━━━━━━━━━━━━━━━━\u001b[0m \u001b[32m49.7/49.7 kB\u001b[0m \u001b[31m3.1 MB/s\u001b[0m eta \u001b[36m0:00:00\u001b[0m\n",
            "\u001b[?25hDownloading symengine-0.13.0-cp310-cp310-manylinux_2_17_x86_64.manylinux2014_x86_64.whl (49.7 MB)\n",
            "\u001b[2K   \u001b[90m━━━━━━━━━━━━━━━━━━━━━━━━━━━━━━━━━━━━━━━━\u001b[0m \u001b[32m49.7/49.7 MB\u001b[0m \u001b[31m15.4 MB/s\u001b[0m eta \u001b[36m0:00:00\u001b[0m\n",
            "\u001b[?25hDownloading pbr-6.1.0-py2.py3-none-any.whl (108 kB)\n",
            "\u001b[2K   \u001b[90m━━━━━━━━━━━━━━━━━━━━━━━━━━━━━━━━━━━━━━━━\u001b[0m \u001b[32m108.5/108.5 kB\u001b[0m \u001b[31m6.6 MB/s\u001b[0m eta \u001b[36m0:00:00\u001b[0m\n",
            "\u001b[?25hInstalling collected packages: symengine, rustworkx, pbr, dill, stevedore, qiskit\n",
            "Successfully installed dill-0.3.9 pbr-6.1.0 qiskit-1.2.4 rustworkx-0.15.1 stevedore-5.3.0 symengine-0.13.0\n"
          ]
        }
      ]
    },
    {
      "cell_type": "markdown",
      "source": [
        " 1.Define the Initial State Vector and Operators\n",
        "\n"
      ],
      "metadata": {
        "id": "Z1SfeBvHnyti"
      }
    },
    {
      "cell_type": "code",
      "execution_count": null,
      "metadata": {
        "id": "4sxTlvGdeakh"
      },
      "outputs": [],
      "source": [
        "from qiskit.quantum_info import Statevector, Operator\n",
        "from math import sqrt\n",
        "\n",
        "# Define the initial state vector |0>\n",
        "v = Statevector([1, 0])\n",
        "\n",
        "# Define the given operators\n",
        "X = Operator([[0, 1], [1, 0]])\n",
        "Y = Operator([[0, -1j], [1j, 0]])\n",
        "Z = Operator([[1, 0], [0, -1]])\n",
        "H = Operator([[1/sqrt(2), 1/sqrt(2)], [1/sqrt(2), -1/sqrt(2)]])\n",
        "S = Operator([[1, 0], [0, 1j]])\n",
        "T = Operator([[1, 0], [0, (1+1j)/sqrt(2)]])\n",
        "\n"
      ]
    },
    {
      "cell_type": "markdown",
      "source": [
        " Here, we define the initial state vector |0> and the given operators (X, Y, Z, H, S, T)."
      ],
      "metadata": {
        "id": "AN4f0ToAn7JG"
      }
    },
    {
      "cell_type": "markdown",
      "source": [
        " 2: Perform the Given Operations on the State Vector"
      ],
      "metadata": {
        "id": "IC51GBiVn8pX"
      }
    },
    {
      "cell_type": "code",
      "source": [
        "# Apply the given operations on the state vector\n",
        "v = v.evolve(H)\n",
        "v = v.evolve(T)\n",
        "v = v.evolve(H)\n",
        "v = v.evolve(H)\n",
        "v = v.evolve(T)\n",
        "v = v.evolve(Z)\n",
        "\n",
        "\n",
        "\n"
      ],
      "metadata": {
        "id": "h_lY_52bg2gS"
      },
      "execution_count": null,
      "outputs": []
    },
    {
      "cell_type": "markdown",
      "source": [
        "In this step, we apply the given operations (H, T, H, H, T, Z) to the state vector."
      ],
      "metadata": {
        "id": "mgQhcmIaoHSp"
      }
    },
    {
      "cell_type": "markdown",
      "source": [
        " 3: Display the State Vector in Latex and Text Format"
      ],
      "metadata": {
        "id": "WRGDrGi0oUDD"
      }
    },
    {
      "cell_type": "code",
      "source": [
        "display(v.draw('latex'))\n",
        "display(v.draw(\"text\"))\n"
      ],
      "metadata": {
        "colab": {
          "base_uri": "https://localhost:8080/",
          "height": 59
        },
        "id": "9WM2ts7woU4u",
        "outputId": "3a2fdcc2-d1ec-45c8-99fe-7605867ac5fc"
      },
      "execution_count": null,
      "outputs": [
        {
          "output_type": "display_data",
          "data": {
            "text/plain": [
              "<IPython.core.display.Latex object>"
            ],
            "text/latex": "$$(\\frac{\\sqrt{2}}{2} - \\frac{\\sqrt{2} i}{2}) |1\\rangle$$"
          },
          "metadata": {}
        },
        {
          "output_type": "display_data",
          "data": {
            "text/plain": [
              "[5.55111512e-17-5.55111512e-17j,7.07106781e-01-7.07106781e-01j]"
            ]
          },
          "metadata": {}
        }
      ]
    },
    {
      "cell_type": "markdown",
      "source": [
        " 4: Create a Simple Quantum Circuit for the Operations"
      ],
      "metadata": {
        "id": "sAHqgKPyozYr"
      }
    },
    {
      "cell_type": "code",
      "source": [
        "circuit = QuantumCircuit(1)\n",
        "circuit.h(0)\n",
        "circuit.t(0)\n",
        "circuit.h(0)\n",
        "circuit.h(0)\n",
        "circuit.t(0)\n",
        "circuit.z(0)\n",
        "print(circuit.draw())"
      ],
      "metadata": {
        "colab": {
          "base_uri": "https://localhost:8080/"
        },
        "id": "vWvb6FKmhT2N",
        "outputId": "a4aae53f-0ec1-4062-998c-3860aee50a05"
      },
      "execution_count": null,
      "outputs": [
        {
          "output_type": "stream",
          "name": "stdout",
          "text": [
            "   ┌───┐┌───┐┌───┐┌───┐┌───┐┌───┐\n",
            "q: ┤ H ├┤ T ├┤ H ├┤ H ├┤ T ├┤ Z ├\n",
            "   └───┘└───┘└───┘└───┘└───┘└───┘\n"
          ]
        }
      ]
    },
    {
      "cell_type": "markdown",
      "source": [
        "we create a simple quantum circuit and apply the given operations to the circuit."
      ],
      "metadata": {
        "id": "KkoU-GLZo-A-"
      }
    },
    {
      "cell_type": "markdown",
      "source": [
        "5: Simulate the Result of Running the Experiment 10000 Times"
      ],
      "metadata": {
        "id": "WFj2dzB2pB7k"
      }
    },
    {
      "cell_type": "code",
      "source": [
        "from qiskit.visualization import plot_histogram\n",
        "\n",
        "# Simulate the result of running the experiment 10000 times\n",
        "ket0 = Statevector([1, 0])\n",
        "v = ket0.evolve(circuit)\n",
        "statistics = v.sample_counts(10000)\n",
        "plot_histogram(statistics)\n"
      ],
      "metadata": {
        "colab": {
          "base_uri": "https://localhost:8080/",
          "height": 429
        },
        "id": "gkcanYXYhnAm",
        "outputId": "9a301e4f-fa7c-4f5e-acb6-df65837d71c1"
      },
      "execution_count": null,
      "outputs": [
        {
          "output_type": "execute_result",
          "data": {
            "text/plain": [
              "<Figure size 640x480 with 1 Axes>"
            ],
            "image/png": "[encoded data removed]"
          },
          "metadata": {},
          "execution_count": 40
        }
      ]
    },
    {
      "cell_type": "markdown",
      "source": [
        "This nearly equal distribution reflects the application of the X, H, T, and Z gates to the initial state |0⟩, resulting in a superposition state that has approximately equal probabilities of being measured as |0⟩ and |1⟩."
      ],
      "metadata": {
        "id": "qAgQ4oWMp68Y"
      }
    },
    {
      "cell_type": "markdown",
      "source": [
        "6: Proof that ( R ) is the Square Root of NOT Operation"
      ],
      "metadata": {
        "id": "YAvgnTBFqGWn"
      }
    },
    {
      "cell_type": "code",
      "source": [
        "from qiskit import QuantumCircuit\n",
        "\n",
        "# Define the R operator (Hadamard-S-Hadamard)\n",
        "R = QuantumCircuit(1)\n",
        "R.h(0)\n",
        "R.s(0)\n",
        "R.h(0)\n",
        "\n",
        "# Apply X gate followed by R and compare the state vectors\n",
        "circuit.x(0)  # Apply X gate\n",
        "composed_circuit = circuit.compose(R)\n",
        "v = ket0.evolve(composed_circuit)\n",
        "print(v)\n",
        "\n",
        "\n"
      ],
      "metadata": {
        "colab": {
          "base_uri": "https://localhost:8080/"
        },
        "id": "v9AC5wVUhXZ2",
        "outputId": "2a9d47e2-9106-4a77-ba00-541d96c1e759"
      },
      "execution_count": null,
      "outputs": [
        {
          "output_type": "stream",
          "name": "stdout",
          "text": [
            "Statevector([5.55111512e-17-5.55111512e-17j,\n",
            "             7.07106781e-01-7.07106781e-01j],\n",
            "            dims=(2,))\n"
          ]
        }
      ]
    },
    {
      "cell_type": "markdown",
      "source": [
        "This result corresponds to the state 1/√2(|0⟩ - i|1⟩), which is indeed the expected outcome when applying the R gate (which is a phase rotation gate) after the X gate.\n",
        "\n",
        "Therefore, the output confirms the relationship between the R gate and the square root of the NOT operation, as expected."
      ],
      "metadata": {
        "id": "3EW3xJvQq1dz"
      }
    }
  ]
}