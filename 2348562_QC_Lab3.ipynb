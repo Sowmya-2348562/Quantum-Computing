{
  "nbformat": 4,
  "nbformat_minor": 0,
  "metadata": {
    "colab": {
      "provenance": [],
      "authorship_tag": "ABX9TyMNtsCSOc6Jdv+ToveOQSiv",
      "include_colab_link": true
    },
    "kernelspec": {
      "name": "python3",
      "display_name": "Python 3"
    },
    "language_info": {
      "name": "python"
    }
  },
  "cells": [
    {
      "cell_type": "markdown",
      "metadata": {
        "id": "view-in-github",
        "colab_type": "text"
      },
      "source": [
        "<a href=\"https://colab.research.google.com/github/Sowmya-2348562/Quantum-Computing/blob/main/2348562_QC_Lab3.ipynb\" target=\"_parent\"><img src=\"https://colab.research.google.com/assets/colab-badge.svg\" alt=\"Open In Colab\"/></a>"
      ]
    },
    {
      "cell_type": "markdown",
      "source": [],
      "metadata": {
        "id": "vKiHfrrFMtIc"
      }
    },
    {
      "cell_type": "code",
      "execution_count": 1,
      "metadata": {
        "colab": {
          "base_uri": "https://localhost:8080/"
        },
        "id": "eb844GkvMiaR",
        "outputId": "af4cd420-8d34-44a5-bb3e-60db470bfa89"
      },
      "outputs": [
        {
          "output_type": "stream",
          "name": "stdout",
          "text": [
            "Collecting qiskit\n",
            "  Downloading qiskit-1.2.4-cp38-abi3-manylinux_2_17_x86_64.manylinux2014_x86_64.whl.metadata (12 kB)\n",
            "Collecting rustworkx>=0.15.0 (from qiskit)\n",
            "  Downloading rustworkx-0.15.1-cp38-abi3-manylinux_2_17_x86_64.manylinux2014_x86_64.whl.metadata (9.9 kB)\n",
            "Requirement already satisfied: numpy<3,>=1.17 in /usr/local/lib/python3.10/dist-packages (from qiskit) (1.26.4)\n",
            "Requirement already satisfied: scipy>=1.5 in /usr/local/lib/python3.10/dist-packages (from qiskit) (1.13.1)\n",
            "Requirement already satisfied: sympy>=1.3 in /usr/local/lib/python3.10/dist-packages (from qiskit) (1.13.3)\n",
            "Collecting dill>=0.3 (from qiskit)\n",
            "  Downloading dill-0.3.9-py3-none-any.whl.metadata (10 kB)\n",
            "Requirement already satisfied: python-dateutil>=2.8.0 in /usr/local/lib/python3.10/dist-packages (from qiskit) (2.8.2)\n",
            "Collecting stevedore>=3.0.0 (from qiskit)\n",
            "  Downloading stevedore-5.3.0-py3-none-any.whl.metadata (2.3 kB)\n",
            "Requirement already satisfied: typing-extensions in /usr/local/lib/python3.10/dist-packages (from qiskit) (4.12.2)\n",
            "Collecting symengine<0.14,>=0.11 (from qiskit)\n",
            "  Downloading symengine-0.13.0-cp310-cp310-manylinux_2_17_x86_64.manylinux2014_x86_64.whl.metadata (1.2 kB)\n",
            "Requirement already satisfied: six>=1.5 in /usr/local/lib/python3.10/dist-packages (from python-dateutil>=2.8.0->qiskit) (1.16.0)\n",
            "Collecting pbr>=2.0.0 (from stevedore>=3.0.0->qiskit)\n",
            "  Downloading pbr-6.1.0-py2.py3-none-any.whl.metadata (3.4 kB)\n",
            "Requirement already satisfied: mpmath<1.4,>=1.1.0 in /usr/local/lib/python3.10/dist-packages (from sympy>=1.3->qiskit) (1.3.0)\n",
            "Downloading qiskit-1.2.4-cp38-abi3-manylinux_2_17_x86_64.manylinux2014_x86_64.whl (4.8 MB)\n",
            "\u001b[2K   \u001b[90m━━━━━━━━━━━━━━━━━━━━━━━━━━━━━━━━━━━━━━━━\u001b[0m \u001b[32m4.8/4.8 MB\u001b[0m \u001b[31m24.5 MB/s\u001b[0m eta \u001b[36m0:00:00\u001b[0m\n",
            "\u001b[?25hDownloading dill-0.3.9-py3-none-any.whl (119 kB)\n",
            "\u001b[2K   \u001b[90m━━━━━━━━━━━━━━━━━━━━━━━━━━━━━━━━━━━━━━━━\u001b[0m \u001b[32m119.4/119.4 kB\u001b[0m \u001b[31m3.9 MB/s\u001b[0m eta \u001b[36m0:00:00\u001b[0m\n",
            "\u001b[?25hDownloading rustworkx-0.15.1-cp38-abi3-manylinux_2_17_x86_64.manylinux2014_x86_64.whl (2.0 MB)\n",
            "\u001b[2K   \u001b[90m━━━━━━━━━━━━━━━━━━━━━━━━━━━━━━━━━━━━━━━━\u001b[0m \u001b[32m2.0/2.0 MB\u001b[0m \u001b[31m40.2 MB/s\u001b[0m eta \u001b[36m0:00:00\u001b[0m\n",
            "\u001b[?25hDownloading stevedore-5.3.0-py3-none-any.whl (49 kB)\n",
            "\u001b[2K   \u001b[90m━━━━━━━━━━━━━━━━━━━━━━━━━━━━━━━━━━━━━━━━\u001b[0m \u001b[32m49.7/49.7 kB\u001b[0m \u001b[31m2.4 MB/s\u001b[0m eta \u001b[36m0:00:00\u001b[0m\n",
            "\u001b[?25hDownloading symengine-0.13.0-cp310-cp310-manylinux_2_17_x86_64.manylinux2014_x86_64.whl (49.7 MB)\n",
            "\u001b[2K   \u001b[90m━━━━━━━━━━━━━━━━━━━━━━━━━━━━━━━━━━━━━━━━\u001b[0m \u001b[32m49.7/49.7 MB\u001b[0m \u001b[31m10.0 MB/s\u001b[0m eta \u001b[36m0:00:00\u001b[0m\n",
            "\u001b[?25hDownloading pbr-6.1.0-py2.py3-none-any.whl (108 kB)\n",
            "\u001b[2K   \u001b[90m━━━━━━━━━━━━━━━━━━━━━━━━━━━━━━━━━━━━━━━━\u001b[0m \u001b[32m108.5/108.5 kB\u001b[0m \u001b[31m3.6 MB/s\u001b[0m eta \u001b[36m0:00:00\u001b[0m\n",
            "\u001b[?25hInstalling collected packages: symengine, rustworkx, pbr, dill, stevedore, qiskit\n",
            "Successfully installed dill-0.3.9 pbr-6.1.0 qiskit-1.2.4 rustworkx-0.15.1 stevedore-5.3.0 symengine-0.13.0\n"
          ]
        }
      ],
      "source": [
        "pip install qiskit\n"
      ]
    },
    {
      "cell_type": "markdown",
      "source": [
        "1. Tensor Product of Two Vectors\n",
        "Explanation\n",
        "In quantum computing, the tensor product (also known as the Kronecker product) combines two quantum states (vectors) into a single joint state. If you have two vectors:\n",
        "\n",
        "∣\n",
        "𝜓\n",
        "⟩\n",
        "=\n",
        "[\n",
        "𝑎\n",
        "𝑏\n",
        "]\n",
        ",\n",
        "∣\n",
        "𝜙\n",
        "⟩\n",
        "=\n",
        "[\n",
        "𝑐\n",
        "𝑑\n",
        "]\n",
        "∣ψ⟩=[\n",
        "a\n",
        "b\n",
        "​\n",
        " ],∣ϕ⟩=[\n",
        "c\n",
        "d\n",
        "​\n",
        " ]\n",
        "Their tensor product\n",
        "∣\n",
        "𝜓\n",
        "⟩\n",
        "⊗\n",
        "∣\n",
        "𝜙\n",
        "⟩\n",
        "∣ψ⟩⊗∣ϕ⟩ is:\n",
        "\n",
        "∣\n",
        "𝜓\n",
        "⟩\n",
        "⊗\n",
        "∣\n",
        "𝜙\n",
        "⟩\n",
        "=\n",
        "[\n",
        "𝑎\n",
        "⋅\n",
        "𝑐\n",
        "𝑎\n",
        "⋅\n",
        "𝑑\n",
        "𝑏\n",
        "⋅\n",
        "𝑐\n",
        "𝑏\n",
        "⋅\n",
        "𝑑\n",
        "]\n",
        "∣ψ⟩⊗∣ϕ⟩=\n",
        "​\n",
        "  \n",
        "a⋅c\n",
        "a⋅d\n",
        "b⋅c\n",
        "b⋅d\n",
        "​\n",
        "  \n",
        "​\n",
        "\n"
      ],
      "metadata": {
        "id": "ltG3kcxIMt-m"
      }
    },
    {
      "cell_type": "code",
      "source": [
        "import numpy as np\n",
        "from qiskit.quantum_info import Statevector, Operator\n",
        "\n",
        "# Define two single-qubit states\n",
        "psi = np.array([1, 0])  # |0>\n",
        "phi = (1/np.sqrt(2)) * np.array([1, 1])  # |+>\n",
        "\n",
        "# Tensor product\n",
        "tensor_product = np.kron(psi, phi)\n",
        "print(\"Tensor Product |0> ⊗ |+>:\")\n",
        "print(tensor_product)\n"
      ],
      "metadata": {
        "colab": {
          "base_uri": "https://localhost:8080/"
        },
        "id": "bl43Pt01MmG_",
        "outputId": "aaff1870-8ba0-435e-e73a-d5098ffea696"
      },
      "execution_count": 2,
      "outputs": [
        {
          "output_type": "stream",
          "name": "stdout",
          "text": [
            "Tensor Product |0> ⊗ |+>:\n",
            "[0.70710678 0.70710678 0.         0.        ]\n"
          ]
        }
      ]
    },
    {
      "cell_type": "markdown",
      "source": [
        "2. Creating an Operator and Executing on a State Vector\n",
        "Explanation\n",
        "A quantum operator is a matrix that acts on a quantum state vector to transform it. For example, the Pauli-X gate flips the state\n",
        "∣\n",
        "0\n",
        "⟩\n",
        "∣0⟩ to\n",
        "∣\n",
        "1\n",
        "⟩\n",
        "∣1⟩ and vice versa.\n",
        "\n",
        "Example\n",
        "Let's create the Pauli-X operator and apply it to the state\n",
        "∣\n",
        "+\n",
        "⟩\n",
        "∣+⟩.\n",
        "\n",
        "𝑋\n",
        "=\n",
        "[\n",
        "0\n",
        "1\n",
        "1\n",
        "0\n",
        "]\n",
        ",\n",
        "∣\n",
        "+\n",
        "⟩\n",
        "=\n",
        "1\n",
        "2\n",
        "[\n",
        "1\n",
        "1\n",
        "]\n",
        "X=[\n",
        "0\n",
        "1\n",
        "​\n",
        "  \n",
        "1\n",
        "0\n",
        "​\n",
        " ],∣+⟩=\n",
        "2\n",
        "​\n",
        "\n",
        "1\n",
        "​\n",
        " [\n",
        "1\n",
        "1\n",
        "​\n",
        " ]\n",
        "Applying\n",
        "𝑋\n",
        "X to\n",
        "∣\n",
        "+\n",
        "⟩\n",
        "∣+⟩:\n",
        "\n",
        "𝑋\n",
        "∣\n",
        "+\n",
        "⟩\n",
        "=\n",
        "1\n",
        "2\n",
        "[\n",
        "0\n",
        "⋅\n",
        "1\n",
        "+\n",
        "1\n",
        "⋅\n",
        "1\n",
        "1\n",
        "⋅\n",
        "1\n",
        "+\n",
        "0\n",
        "⋅\n",
        "1\n",
        "]\n",
        "=\n",
        "1\n",
        "2\n",
        "[\n",
        "1\n",
        "1\n",
        "]\n",
        "=\n",
        "∣\n",
        "+\n",
        "⟩\n",
        "X∣+⟩=\n",
        "2\n",
        "​\n",
        "\n",
        "1\n",
        "​\n",
        " [\n",
        "0⋅1+1⋅1\n",
        "1⋅1+0⋅1\n",
        "​\n",
        " ]=\n",
        "2\n",
        "​\n",
        "\n",
        "1\n",
        "​\n",
        " [\n",
        "1\n",
        "1\n",
        "​\n",
        " ]=∣+⟩"
      ],
      "metadata": {
        "id": "1y1eZfkeQOJu"
      }
    },
    {
      "cell_type": "code",
      "source": [
        "from qiskit.quantum_info import Operator, Statevector\n",
        "\n",
        "# Define the Pauli-X operator\n",
        "X = Operator([[0, 1],\n",
        "             [1, 0]])\n",
        "\n",
        "# Define the |+> state\n",
        "plus_state = Statevector([1/np.sqrt(2), 1/np.sqrt(2)])\n",
        "\n",
        "# Apply X operator to |+>\n",
        "new_state = X @ plus_state.data\n",
        "print(\"State after applying Pauli-X to |+>:\")\n",
        "print(new_state)\n"
      ],
      "metadata": {
        "colab": {
          "base_uri": "https://localhost:8080/"
        },
        "id": "pU9qO-HEMpRg",
        "outputId": "7d858edf-8e86-4f28-846c-2e0de0a318bb"
      },
      "execution_count": 3,
      "outputs": [
        {
          "output_type": "stream",
          "name": "stdout",
          "text": [
            "State after applying Pauli-X to |+>:\n",
            "Operator([0.70710678+0.j, 0.70710678+0.j],\n",
            "         input_dims=(), output_dims=(2,))\n"
          ]
        }
      ]
    },
    {
      "cell_type": "markdown",
      "source": [
        "1. Tensor Product of Two Vectors"
      ],
      "metadata": {
        "id": "SH9pEetMR6s3"
      }
    },
    {
      "cell_type": "code",
      "source": [
        "import numpy as np\n",
        "\n",
        "# 1. Tensor Product of Two Vectors\n",
        "\n",
        "def tensor_product(vec1, vec2):\n",
        "    return np.kron(vec1, vec2)\n",
        "\n",
        "# Example vectors\n",
        "psi = np.array([1, 0])  # |0⟩\n",
        "phi = np.array([1/np.sqrt(2), 1/np.sqrt(2)])  # |+⟩\n",
        "\n",
        "# Calculate the tensor product\n",
        "result = tensor_product(psi, phi)\n",
        "print(\"Tensor Product |ψ⟩ ⊗ |ϕ⟩:\")\n",
        "print(result)\n"
      ],
      "metadata": {
        "colab": {
          "base_uri": "https://localhost:8080/"
        },
        "id": "YYv5XT9cP1r7",
        "outputId": "05fb7592-23aa-40a0-f238-02b6aac9c53c"
      },
      "execution_count": 15,
      "outputs": [
        {
          "output_type": "stream",
          "name": "stdout",
          "text": [
            "Tensor Product |ψ⟩ ⊗ |ϕ⟩:\n",
            "[0.70710678 0.70710678 0.         0.        ]\n"
          ]
        }
      ]
    },
    {
      "cell_type": "markdown",
      "source": [
        "Inference:\n",
        "\n",
        "The tensor product of the states |0⟩ and |+⟩ produces a 4-dimensional vector representing the combined state of two qubits.\n",
        "The resulting state can be interpreted as having a probability amplitude of\n",
        "1/sqrt(2)\n",
        "  for being in |00⟩ and |01⟩, and zero amplitude for |10⟩ and |11⟩."
      ],
      "metadata": {
        "id": "58bcmyk3R_vy"
      }
    },
    {
      "cell_type": "markdown",
      "source": [
        "2. Create an Operator and Execute on State Vector"
      ],
      "metadata": {
        "id": "UtC-FbFsSLGW"
      }
    },
    {
      "cell_type": "code",
      "source": [
        "# 2. Create an Operator and Execute on State Vector\n",
        "\n",
        "# Define a simple operator (e.g., Pauli-X operator)\n",
        "X_operator = np.array([[0, 1],\n",
        "                       [1, 0]])\n",
        "\n",
        "# Execute the operator on the state vector |ψ⟩\n",
        "new_state = X_operator @ psi\n",
        "print(\"\\nNew State after applying X operator on |0⟩:\")\n",
        "print(new_state)"
      ],
      "metadata": {
        "colab": {
          "base_uri": "https://localhost:8080/"
        },
        "id": "f5X8Iel6SM3i",
        "outputId": "279bb4ca-866a-441c-8e9f-6a78d41584da"
      },
      "execution_count": 16,
      "outputs": [
        {
          "output_type": "stream",
          "name": "stdout",
          "text": [
            "\n",
            "New State after applying X operator on |0⟩:\n",
            "[0 1]\n"
          ]
        }
      ]
    },
    {
      "cell_type": "markdown",
      "source": [
        "Inference:\n",
        "\n",
        "The Pauli-X operator, which is equivalent to a NOT gate, flips the |0⟩ state to |1⟩. This demonstrates how operators can change the state of qubits, which is fundamental in quantum computation."
      ],
      "metadata": {
        "id": "m0OzuKqBSPfj"
      }
    },
    {
      "cell_type": "markdown",
      "source": [
        "3. Partial Measurement"
      ],
      "metadata": {
        "id": "q5q2-l9GSSHK"
      }
    },
    {
      "cell_type": "code",
      "source": [
        "# 3. Partial Measurement\n",
        "\n",
        "def partial_measure(state, index):\n",
        "    # For simplicity, we consider only measurement of a single qubit\n",
        "    if index == 0:  # Measure the first qubit\n",
        "        return np.array([state[0], state[2]]), np.array([state[1], state[3]])\n",
        "    else:  # Measure the second qubit\n",
        "        return np.array([state[0], state[1]]), np.array([state[2], state[3]])\n",
        "\n",
        "# Get the measurement results\n",
        "measured_0, measured_1 = partial_measure(result, 0)\n",
        "print(\"\\nPartial Measurement Results (Measurement on first qubit):\")\n",
        "print(\"Measured |0⟩ state:\", measured_0)\n",
        "print(\"Measured |1⟩ state:\", measured_1)"
      ],
      "metadata": {
        "colab": {
          "base_uri": "https://localhost:8080/"
        },
        "id": "w9ZaYyV2SUzF",
        "outputId": "f999e646-e3d0-4fbd-c76b-3b4647d36c2e"
      },
      "execution_count": 18,
      "outputs": [
        {
          "output_type": "stream",
          "name": "stdout",
          "text": [
            "\n",
            "Partial Measurement Results (Measurement on first qubit):\n",
            "Measured |0⟩ state: [0.70710678 0.        ]\n",
            "Measured |1⟩ state: [0.70710678 0.        ]\n"
          ]
        }
      ]
    },
    {
      "cell_type": "markdown",
      "source": [
        "Inference:\n",
        "\n",
        "The function simulates measuring the first qubit of the combined state.\n",
        "The outputs indicate the remaining states if the measurement collapses the system to |0⟩ or |1⟩. The measured states retain the amplitudes corresponding to the original state, reflecting how quantum measurement affects states."
      ],
      "metadata": {
        "id": "3yUyr6HRSaQx"
      }
    },
    {
      "cell_type": "code",
      "source": [
        "# 4. CSWAP and Toffoli Gates\n",
        "\n",
        "# CSWAP Gate\n",
        "CSWAP = np.array([[1, 0, 0, 0, 0, 0, 0, 0],\n",
        "                  [0, 1, 0, 0, 0, 0, 0, 0],\n",
        "                  [0, 0, 1, 0, 0, 0, 0, 0],\n",
        "                  [0, 0, 0, 1, 0, 0, 0, 0],\n",
        "                  [0, 0, 0, 0, 0, 1, 0, 0],\n",
        "                  [0, 0, 0, 0, 1, 0, 0, 0],\n",
        "                  [0, 0, 0, 0, 0, 0, 0, 1],\n",
        "                  [0, 0, 0, 0, 0, 0, 1, 0]])\n",
        "\n",
        "print(\"\\nCSWAP Matrix Representation:\")\n",
        "print(CSWAP)\n",
        "\n",
        "# Toffoli Gate\n",
        "Toffoli = np.array([[1, 0, 0, 0, 0, 0, 0, 0],\n",
        "                    [0, 1, 0, 0, 0, 0, 0, 0],\n",
        "                    [0, 0, 1, 0, 0, 0, 0, 0],\n",
        "                    [0, 0, 0, 1, 0, 0, 0, 0],\n",
        "                    [0, 0, 0, 0, 1, 0, 0, 0],\n",
        "                    [0, 0, 0, 0, 0, 1, 0, 0],\n",
        "                    [0, 0, 0, 0, 0, 0, 0, 1],\n",
        "                    [0, 0, 0, 0, 0, 0, 1, 0]])\n",
        "\n",
        "print(\"\\nToffoli Matrix Representation:\")\n",
        "print(Toffoli)\n"
      ],
      "metadata": {
        "colab": {
          "base_uri": "https://localhost:8080/"
        },
        "id": "BxQd4sTnR5Q6",
        "outputId": "bf313d1a-5c3e-484e-c28b-86882a334276"
      },
      "execution_count": 19,
      "outputs": [
        {
          "output_type": "stream",
          "name": "stdout",
          "text": [
            "\n",
            "CSWAP Matrix Representation:\n",
            "[[1 0 0 0 0 0 0 0]\n",
            " [0 1 0 0 0 0 0 0]\n",
            " [0 0 1 0 0 0 0 0]\n",
            " [0 0 0 1 0 0 0 0]\n",
            " [0 0 0 0 0 1 0 0]\n",
            " [0 0 0 0 1 0 0 0]\n",
            " [0 0 0 0 0 0 0 1]\n",
            " [0 0 0 0 0 0 1 0]]\n",
            "\n",
            "Toffoli Matrix Representation:\n",
            "[[1 0 0 0 0 0 0 0]\n",
            " [0 1 0 0 0 0 0 0]\n",
            " [0 0 1 0 0 0 0 0]\n",
            " [0 0 0 1 0 0 0 0]\n",
            " [0 0 0 0 1 0 0 0]\n",
            " [0 0 0 0 0 1 0 0]\n",
            " [0 0 0 0 0 0 0 1]\n",
            " [0 0 0 0 0 0 1 0]]\n"
          ]
        }
      ]
    },
    {
      "cell_type": "markdown",
      "source": [
        "Inference:\n",
        "\n",
        "The CSWAP gate (Controlled-SWAP) swaps the states of two target qubits if the control qubit is in the |1⟩ state. The matrix representation shows which states are swapped based on the control qubit.\n",
        "The Toffoli gate (Controlled-Controlled-NOT) flips the third qubit (target) if the first two qubits (controls) are both in the |1⟩ state. Its matrix shows the effect of conditional logic in quantum circuits."
      ],
      "metadata": {
        "id": "xGz6XIZ_SfF6"
      }
    },
    {
      "cell_type": "markdown",
      "source": [
        "Tensor Product:\n",
        "\n",
        "We define the function tensor_product using NumPy's kron function to compute the tensor product of two vectors.\n",
        "Operator Application:\n",
        "\n",
        "We define a simple Pauli-X operator and apply it to the |0⟩ state vector using matrix multiplication.\n",
        "Partial Measurement:\n",
        "\n",
        "The partial_measure function simulates measuring one of the qubits in the composite state.\n",
        "Gate Representations:\n",
        "\n",
        "The CSWAP and Toffoli gates are defined as 8x8 matrices to represent their action on 3 qubits."
      ],
      "metadata": {
        "id": "NkLLqDQ0Ro0U"
      }
    }
  ]
}